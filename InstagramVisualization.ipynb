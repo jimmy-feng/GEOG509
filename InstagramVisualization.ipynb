{
 "cells": [
  {
   "cell_type": "markdown",
   "metadata": {},
   "source": [
    "# COMPOSITING COLOR PALETTES AND RAW IMAGES"
   ]
  },
  {
   "cell_type": "code",
   "execution_count": 20,
   "metadata": {},
   "outputs": [],
   "source": [
    "import pandas as pd\n",
    "import numpy as np\n",
    "import ast\n",
    "import PIL\n",
    "from pathlib import Path\n",
    "import glob\n",
    "from PIL import Image\n",
    "from math import sqrt\n",
    "import matplotlib.pyplot as plt\n",
    "%matplotlib inline"
   ]
  },
  {
   "cell_type": "code",
   "execution_count": 4,
   "metadata": {},
   "outputs": [
    {
     "data": {
      "image/png": "[encoded data removed]",
      "text/plain": [
       "<Figure size 432x288 with 1 Axes>"
      ]
     },
     "metadata": {
      "needs_background": "light"
     },
     "output_type": "display_data"
    }
   ],
   "source": [
    "color_knoxcounty = pd.read_csv(\"./Instagram/colors_knoxcounty.csv\", index_col = 0, converters={\"Color1\": ast.literal_eval,\n",
    "                                                                                                 \"Color2\": ast.literal_eval,\n",
    "                                                                                                 \"Color3\": ast.literal_eval,\n",
    "                                                                                                 \"Color4\": ast.literal_eval,\n",
    "                                                                                                 \"Color5\": ast.literal_eval,\n",
    "                                                                                                 \"HSL1\": ast.literal_eval,\n",
    "                                                                                                 \"HSL2\": ast.literal_eval,\n",
    "                                                                                                 \"HSL3\": ast.literal_eval,\n",
    "                                                                                                 \"HSL4\": ast.literal_eval,\n",
    "                                                                                                 \"HSL5\": ast.literal_eval})\n",
    "color_knoxcounty_plt = color_knoxcounty.loc[:, \"Color1\":\"HSL5\"]\n",
    "\n",
    "fs = []\n",
    "\n",
    "for i in range(len(color_knoxcounty_plt)):\n",
    "    palette = list(color_knoxcounty_plt.loc[i, \"Color1\":\"Color5\"])\n",
    "    palette = np.array(palette)[np.newaxis, :, :]\n",
    "    plt.imshow(palette.astype(np.uint8));\n",
    "    plt.axis('off');\n",
    "    plt.savefig(\"./Instagram/knoxcounty/cpimages/cp_{}\".format(i))\n",
    "    #plt.show();\n",
    "    im = Image.open('./Instagram/knoxcounty/cpimages/cp_{}.png'.format(i),'r')\n",
    "    fs.append(im)\n",
    "    \n",
    "# get the image size\n",
    "x,y = fs[0].size\n",
    "ncol = 9\n",
    "nrow = 9\n",
    "cvs = Image.new('RGB',(x*ncol,y*nrow))\n",
    "\n",
    "for i in range(len(fs)):\n",
    "    px, py = x*int(i/nrow), y*(i%nrow)\n",
    "    cvs.paste(fs[i],(px,py))\n",
    "\n",
    "cvs.save('./Instagram/cp_knoxcounty.png',format='png')"
   ]
  },
  {
   "cell_type": "code",
   "execution_count": 27,
   "metadata": {},
   "outputs": [
    {
     "data": {
      "image/png": "[encoded data removed]",
      "text/plain": [
       "<Figure size 432x288 with 1 Axes>"
      ]
     },
     "metadata": {
      "needs_background": "light"
     },
     "output_type": "display_data"
    }
   ],
   "source": [
    "cvs = Image.new('RGB', (1,1))\n",
    "color_utkgeography = pd.read_csv(\"./Instagram/colors_utkgeography.csv\", index_col = 0, converters={\"Color1\": ast.literal_eval,\n",
    "                                                                                                 \"Color2\": ast.literal_eval,\n",
    "                                                                                                 \"Color3\": ast.literal_eval,\n",
    "                                                                                                 \"Color4\": ast.literal_eval,\n",
    "                                                                                                 \"Color5\": ast.literal_eval,\n",
    "                                                                                                 \"HSL1\": ast.literal_eval,\n",
    "                                                                                                 \"HSL2\": ast.literal_eval,\n",
    "                                                                                                 \"HSL3\": ast.literal_eval,\n",
    "                                                                                                 \"HSL4\": ast.literal_eval,\n",
    "                                                                                                 \"HSL5\": ast.literal_eval})\n",
    "color_utkgeography_plt = color_utkgeography.loc[:, \"Color1\":\"HSL5\"]\n",
    "\n",
    "\n",
    "## Online help for combining multiple plot outputs: https://pythonmatplotlibtips.blogspot.com/2017/12/arrange-multiple-images-in-one-large-image.html\n",
    "fs = []\n",
    "\n",
    "for i in range(len(color_utkgeography_plt)):\n",
    "    palette = list(color_utkgeography_plt.loc[i, \"Color1\":\"Color5\"])\n",
    "    palette = np.array(palette)[np.newaxis, :, :]\n",
    "    plt.imshow(palette.astype(np.uint8));\n",
    "    plt.axis('off');\n",
    "    plt.savefig(\"./Instagram/utkgeography/cpimages/cp_{}\".format(i))\n",
    "    #plt.show();\n",
    "    im = Image.open('./Instagram/utkgeography/cpimages/cp_{}.png'.format(i),'r')\n",
    "    fs.append(im)\n",
    "    \n",
    "# get the image size\n",
    "x,y = fs[0].size\n",
    "ncol = 9\n",
    "nrow = 11\n",
    "cvs = Image.new('RGB',(x*ncol,y*nrow))\n",
    "\n",
    "for i in range(len(fs)):\n",
    "    px, py = x*int(i/nrow), y*(i%nrow)\n",
    "    cvs.paste(fs[i],(px,py))\n",
    "\n",
    "cvs.save('./Instagram/cp_utkgeography.png',format='png')"
   ]
  },
  {
   "cell_type": "code",
   "execution_count": 10,
   "metadata": {},
   "outputs": [
    {
     "name": "stderr",
     "output_type": "stream",
     "text": [
      "C:\\Users\\jfeng\\Anaconda3\\envs\\Instagram\\lib\\site-packages\\ipykernel_launcher.py:23: FutureWarning: arrays to stack must be passed as a \"sequence\" type such as list or tuple. Support for non-sequence iterables such as generators is deprecated as of NumPy 1.16 and will raise an error in the future.\n"
     ]
    }
   ],
   "source": [
    "filenames = [\"utknoxville\",\n",
    "             \"utkgeography\",\n",
    "             \"tennessee\",\n",
    "             \"knoxcounty\",\n",
    "             \"downtownknoxville\",\n",
    "             \"outdoors\",\n",
    "             \"nourishknoxville\",\n",
    "             \"sunrisesupermarket\",\n",
    "             \"religion\",\n",
    "             \"knoxvillepolice\"]\n",
    "\n",
    "files = list()\n",
    "\n",
    "for i in range(len(filenames)):\n",
    "    pathlist = Path(\"./Instagram/{}\".format(filenames[i])).glob('**/*.jpg')\n",
    "    \n",
    "    for path in pathlist:\n",
    "        files.append(path)\n",
    "        \n",
    "    imgs = [ PIL.Image.open(y) for y in files ]\n",
    "    # pick the image which is the smallest, and resize the others to match it (can be arbitrary image shape here)\n",
    "    min_shape = sorted( [(np.sum(i.size), i.size ) for i in imgs])[0][1]\n",
    "    imgs_comb = np.hstack( (np.asarray( i.resize(min_shape) ) for i in imgs ) )\n",
    "\n",
    "    # save that beautiful picture\n",
    "    imgs_comb = PIL.Image.fromarray( imgs_comb)\n",
    "    imgs_comb.save( '{}.jpg'.format(filenames[i]) )\n",
    "    files = []\n",
    "\n",
    "# for a vertical stacking it is simple: use vstack\n",
    "#imgs_comb = np.vstack( (np.asarray( i.resize(min_shape) ) for i in imgs ) )\n",
    "#imgs_comb = PIL.Image.fromarray( imgs_comb)\n",
    "#imgs_comb.save( 'Trifecta_vertical.jpg' )"
   ]
  },
  {
   "cell_type": "code",
   "execution_count": 13,
   "metadata": {
    "jupyter": {
     "source_hidden": true
    }
   },
   "outputs": [],
   "source": [
    "for i in range(len(filenames)):\n",
    "    pathlist = Path(\"./Instagram/{}\".format(filenames[i])).glob('**/*.jpg')\n",
    "    \n",
    "    for path in pathlist:\n",
    "        files.append(path)\n",
    "    \n",
    "    imgs = [ PIL.Image.open(y) for y in files ]\n",
    "    pil_grid(imgs)\n",
    "    "
   ]
  },
  {
   "cell_type": "code",
   "execution_count": 37,
   "metadata": {},
   "outputs": [],
   "source": [
    "#### COMPOSITE ALL IMAGES: https://python-forum.io/Thread-Combine-images-using-Pillow-and-Python\n",
    "\n",
    "def create_collage(files, out):\n",
    "    # You can add a check to guarantee that the list of images is not bigger than 64...\n",
    "    target_img = Image.new(\"RGB\", (800, 800))\n",
    "    for k, png in enumerate(files):\n",
    "        row, col = divmod(k, 8)\n",
    "        img = Image.open(png)\n",
    "        img.thumbnail((100, 100))\n",
    "        target_img.paste(img, (100*row, 100*col))\n",
    " \n",
    "    target_img.save(out)"
   ]
  },
  {
   "cell_type": "code",
   "execution_count": 42,
   "metadata": {},
   "outputs": [],
   "source": [
    "for i in range(len(filenames)):\n",
    "    files = glob.glob('./Instagram/{}/*.jpg'.format(filenames[i]))\n",
    "    create_collage(files, \"./Instagram/{}.png\".format(filenames[i]))"
   ]
  },
  {
   "cell_type": "code",
   "execution_count": null,
   "metadata": {},
   "outputs": [],
   "source": []
  }
 ],
 "metadata": {
  "kernelspec": {
   "display_name": "Python 3",
   "language": "python",
   "name": "python3"
  },
  "language_info": {
   "codemirror_mode": {
    "name": "ipython",
    "version": 3
   },
   "file_extension": ".py",
   "mimetype": "text/x-python",
   "name": "python",
   "nbconvert_exporter": "python",
   "pygments_lexer": "ipython3",
   "version": "3.7.5"
  }
 },
 "nbformat": 4,
 "nbformat_minor": 4
}
