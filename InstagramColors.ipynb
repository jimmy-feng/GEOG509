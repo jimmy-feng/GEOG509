{
 "cells": [
  {
   "cell_type": "markdown",
   "metadata": {},
   "source": [
    "# EXTRACTING COLORS FROM IMAGES"
   ]
  },
  {
   "cell_type": "code",
   "execution_count": 97,
   "metadata": {},
   "outputs": [],
   "source": [
    "from colorthief import ColorThief\n",
    "import colorgram\n",
    "import pandas as pd\n",
    "import numpy as np\n",
    "import glob\n",
    "import ast\n",
    "from statistics import mean\n",
    "from pathlib import Path\n",
    "from PIL import Image\n",
    "import matplotlib.pyplot as plt\n",
    "%matplotlib inline"
   ]
  },
  {
   "cell_type": "code",
   "execution_count": 69,
   "metadata": {},
   "outputs": [],
   "source": [
    "communities = [\"University of Tennessee at Knoxville\",\n",
    "               \"UTK Geography\",\n",
    "               \"Tennessee\",\n",
    "               \"Knox County\",\n",
    "               \"Downtown Knoxville\",\n",
    "               \"Outdoors\",\n",
    "               \"Nourish Knoxville\",\n",
    "               \"Sunrise Supermarket\",\n",
    "               \"Religion\",\n",
    "               \"Knoxville Police\"]\n",
    "\n",
    "filenames = [\"utknoxville\",\n",
    "             \"utkgeography\",\n",
    "             \"tennessee\",\n",
    "             \"knoxcounty\",\n",
    "             \"downtownknoxville\",\n",
    "             \"outdoors\",\n",
    "             \"nourishknoxville\",\n",
    "             \"sunrisesupermarket\",\n",
    "             \"religion\",\n",
    "             \"knoxvillepolice\"]\n",
    "\n",
    "# Initialize data-frame for average color palette\n",
    "color_Average = pd.DataFrame(columns = [\"Image\", \"Color1\", \"Color2\", \"Color3\", \"Color4\", \"Color5\", \"HSL1\", \"HSL2\", \"HSL3\", \"HSL4\", \"HSL5\", \"Proportion1\", \"Proportion2\", \"Proportion3\", \"Proportion4\", \"Proportion5\"])\n",
    "\n",
    "# Initialize data-frame for the color palette of each image\n",
    "color_Holder = pd.DataFrame(columns = [\"Image\", \"Color1\", \"Color2\", \"Color3\", \"Color4\", \"Color5\", \"HSL1\", \"HSL2\", \"HSL3\", \"HSL4\", \"HSL5\", \"Proportion1\", \"Proportion2\", \"Proportion3\", \"Proportion4\", \"Proportion5\"])"
   ]
  },
  {
   "cell_type": "code",
   "execution_count": 76,
   "metadata": {},
   "outputs": [
    {
     "name": "stdout",
     "output_type": "stream",
     "text": [
      "Empty DataFrame\n",
      "Columns: [Image, Color1, Color2, Color3, Color4, Color5, HSL1, HSL2, HSL3, HSL4, HSL5, Proportion1, Proportion2, Proportion3, Proportion4, Proportion5]\n",
      "Index: []\n",
      "Empty DataFrame\n",
      "Columns: [Image, Color1, Color2, Color3, Color4, Color5, HSL1, HSL2, HSL3, HSL4, HSL5, Proportion1, Proportion2, Proportion3, Proportion4, Proportion5]\n",
      "Index: []\n",
      "Empty DataFrame\n",
      "Columns: [Image, Color1, Color2, Color3, Color4, Color5, HSL1, HSL2, HSL3, HSL4, HSL5, Proportion1, Proportion2, Proportion3, Proportion4, Proportion5]\n",
      "Index: []\n",
      "Empty DataFrame\n",
      "Columns: [Image, Color1, Color2, Color3, Color4, Color5, HSL1, HSL2, HSL3, HSL4, HSL5, Proportion1, Proportion2, Proportion3, Proportion4, Proportion5]\n",
      "Index: []\n",
      "Empty DataFrame\n",
      "Columns: [Image, Color1, Color2, Color3, Color4, Color5, HSL1, HSL2, HSL3, HSL4, HSL5, Proportion1, Proportion2, Proportion3, Proportion4, Proportion5]\n",
      "Index: []\n",
      "Empty DataFrame\n",
      "Columns: [Image, Color1, Color2, Color3, Color4, Color5, HSL1, HSL2, HSL3, HSL4, HSL5, Proportion1, Proportion2, Proportion3, Proportion4, Proportion5]\n",
      "Index: []\n",
      "Empty DataFrame\n",
      "Columns: [Image, Color1, Color2, Color3, Color4, Color5, HSL1, HSL2, HSL3, HSL4, HSL5, Proportion1, Proportion2, Proportion3, Proportion4, Proportion5]\n",
      "Index: []\n",
      "Empty DataFrame\n",
      "Columns: [Image, Color1, Color2, Color3, Color4, Color5, HSL1, HSL2, HSL3, HSL4, HSL5, Proportion1, Proportion2, Proportion3, Proportion4, Proportion5]\n",
      "Index: []\n",
      "Empty DataFrame\n",
      "Columns: [Image, Color1, Color2, Color3, Color4, Color5, HSL1, HSL2, HSL3, HSL4, HSL5, Proportion1, Proportion2, Proportion3, Proportion4, Proportion5]\n",
      "Index: []\n"
     ]
    }
   ],
   "source": [
    "# COLORGRAM\n",
    "\n",
    "# Initialize data-frame for the color palette of each image\n",
    "color_Holder = pd.DataFrame(columns = [\"Image\", \"Color1\", \"Color2\", \"Color3\", \"Color4\", \"Color5\", \"HSL1\", \"HSL2\", \"HSL3\", \"HSL4\", \"HSL5\", \"Proportion1\", \"Proportion2\", \"Proportion3\", \"Proportion4\", \"Proportion5\"])\n",
    "\n",
    "for i in range(len(filenames)):\n",
    "    # Retrieve all paths of jpegs in a directory\n",
    "    pathlist = Path(\"./Instagram/{}\".format(filenames[i])).glob('**/*.jpg')\n",
    "    \n",
    "    # Extract a color palette for each image\n",
    "    for path in pathlist:\n",
    "        colors = colorgram.extract(path, 5)\n",
    "        if len(colors) == 5:\n",
    "            color_Holder = color_Holder.append(pd.Series([str(path),\n",
    "                                                          colors[0].rgb, colors[1].rgb, colors[2].rgb, colors[3].rgb, colors[4].rgb, \n",
    "                                                          colors[0].hsl, colors[1].hsl, colors[2].hsl, colors[3].hsl, colors[4].hsl,\n",
    "                                                          colors[0].proportion, colors[1].proportion, colors[2].proportion, colors[3].proportion, colors[4].proportion],\n",
    "                                                          index=color_Holder.columns), ignore_index = True)\n",
    "        if len(colors) == 4:\n",
    "            color_Holder = color_Holder.append(pd.Series([str(path),\n",
    "                                                          colors[0].rgb, colors[1].rgb, colors[2].rgb, colors[3].rgb, None, \n",
    "                                                          colors[0].hsl, colors[1].hsl, colors[2].hsl, colors[3].hsl, None,\n",
    "                                                          colors[0].proportion, colors[1].proportion, colors[2].proportion, colors[3].proportion, None],\n",
    "                                                          index=color_Holder.columns), ignore_index = True)\n",
    "        if len(colors) == 3:\n",
    "            color_Holder = color_Holder.append(pd.Series([str(path),\n",
    "                                                          colors[0].rgb, colors[1].rgb, colors[2].rgb, None, None, \n",
    "                                                          colors[0].hsl, colors[1].hsl, colors[2].hsl, None, None,\n",
    "                                                          colors[0].proportion, colors[1].proportion, colors[2].proportion, None, None],\n",
    "                                                          index=color_Holder.columns), ignore_index = True)\n",
    "        if len(colors) == 2:\n",
    "            color_Holder = color_Holder.append(pd.Series([str(path),\n",
    "                                                          colors[0].rgb, colors[1].rgb, None, None, None, \n",
    "                                                          colors[0].hsl, colors[1].hsl, None, None, None,\n",
    "                                                          colors[0].proportion, colors[1].proportion, None, None, None],\n",
    "                                                          index=color_Holder.columns), ignore_index = True)\n",
    "        if len(colors) == 1:\n",
    "            color_Holder = color_Holder.append(pd.Series([str(path),\n",
    "                                                          colors[0].rgb, None, None, None, None,\n",
    "                                                          colors[0].hsl, None, None, None, None,\n",
    "                                                          colors[0].proportion, None, None, None, None],\n",
    "                                                          index=color_Holder.columns), ignore_index = True)\n",
    "    \n",
    "    color_Holder.to_csv(\"./Instagram/colors_{}.csv\".format(filenames[i]))\n",
    "    color_Holder = pd.DataFrame(columns = [\"Image\", \"Color1\", \"Color2\", \"Color3\", \"Color4\", \"Color5\", \"HSL1\", \"HSL2\", \"HSL3\", \"HSL4\", \"HSL5\", \"Proportion1\", \"Proportion2\", \"Proportion3\", \"Proportion4\", \"Proportion5\"])\n",
    "    print(color_Holder)\n",
    "#    color_Average = color_Average.append(pd.Series([\n",
    "#                                                    \"{}\".format(communities[i]),\n",
    "#                                                    tuple(map(np.median, zip(*color_Holder[\"Color1\"]))),\n",
    "#                                                    tuple(map(np.median, zip(*color_Holder[\"Color2\"]))),\n",
    "#                                                    tuple(map(np.median, zip(*color_Holder[\"Color3\"])))],\n",
    "#                                                    index = color_Average.columns),\n",
    "#                                                    ignore_index = True)\n",
    "#    \n",
    "#    color_Average.to_csv(\"./Instagram/color_Median.csv\")"
   ]
  },
  {
   "cell_type": "code",
   "execution_count": 111,
   "metadata": {},
   "outputs": [
    {
     "data": {
      "image/png": "[encoded data removed]",
      "text/plain": [
       "<Figure size 432x288 with 1 Axes>"
      ]
     },
     "metadata": {
      "needs_background": "light"
     },
     "output_type": "display_data"
    },
    {
     "data": {
      "image/png": "[encoded data removed]",
      "text/plain": [
       "<Figure size 432x288 with 1 Axes>"
      ]
     },
     "metadata": {
      "needs_background": "light"
     },
     "output_type": "display_data"
    },
    {
     "data": {
      "image/png": "[encoded data removed]",
      "text/plain": [
       "<Figure size 432x288 with 1 Axes>"
      ]
     },
     "metadata": {
      "needs_background": "light"
     },
     "output_type": "display_data"
    },
    {
     "data": {
      "image/png": "[encoded data removed]",
      "text/plain": [
       "<Figure size 432x288 with 1 Axes>"
      ]
     },
     "metadata": {
      "needs_background": "light"
     },
     "output_type": "display_data"
    },
    {
     "data": {
      "image/png": "[encoded data removed]",
      "text/plain": [
       "<Figure size 432x288 with 1 Axes>"
      ]
     },
     "metadata": {
      "needs_background": "light"
     },
     "output_type": "display_data"
    },
    {
     "data": {
      "image/png": "[encoded data removed]",
      "text/plain": [
       "<Figure size 432x288 with 1 Axes>"
      ]
     },
     "metadata": {
      "needs_background": "light"
     },
     "output_type": "display_data"
    },
    {
     "data": {
      "image/png": "[encoded data removed]",
      "text/plain": [
       "<Figure size 432x288 with 1 Axes>"
      ]
     },
     "metadata": {
      "needs_background": "light"
     },
     "output_type": "display_data"
    },
    {
     "data": {
      "image/png": "[encoded data removed]",
      "text/plain": [
       "<Figure size 432x288 with 1 Axes>"
      ]
     },
     "metadata": {
      "needs_background": "light"
     },
     "output_type": "display_data"
    },
    {
     "data": {
      "image/png": "[encoded data removed]",
      "text/plain": [
       "<Figure size 432x288 with 1 Axes>"
      ]
     },
     "metadata": {
      "needs_background": "light"
     },
     "output_type": "display_data"
    },
    {
     "data": {
      "image/png": "[encoded data removed]",
      "text/plain": [
       "<Figure size 432x288 with 1 Axes>"
      ]
     },
     "metadata": {
      "needs_background": "light"
     },
     "output_type": "display_data"
    },
    {
     "data": {
      "image/png": "[encoded data removed]",
      "text/plain": [
       "<Figure size 432x288 with 1 Axes>"
      ]
     },
     "metadata": {
      "needs_background": "light"
     },
     "output_type": "display_data"
    },
    {
     "data": {
      "image/png": "[encoded data removed]",
      "text/plain": [
       "<Figure size 432x288 with 1 Axes>"
      ]
     },
     "metadata": {
      "needs_background": "light"
     },
     "output_type": "display_data"
    },
    {
     "data": {
      "image/png": "[encoded data removed]",
      "text/plain": [
       "<Figure size 432x288 with 1 Axes>"
      ]
     },
     "metadata": {
      "needs_background": "light"
     },
     "output_type": "display_data"
    },
    {
     "data": {
      "image/png": "[encoded data removed]",
      "text/plain": [
       "<Figure size 432x288 with 1 Axes>"
      ]
     },
     "metadata": {
      "needs_background": "light"
     },
     "output_type": "display_data"
    },
    {
     "data": {
      "image/png": "[encoded data removed]",
      "text/plain": [
       "<Figure size 432x288 with 1 Axes>"
      ]
     },
     "metadata": {
      "needs_background": "light"
     },
     "output_type": "display_data"
    },
    {
     "data": {
      "image/png": "[encoded data removed]",
      "text/plain": [
       "<Figure size 432x288 with 1 Axes>"
      ]
     },
     "metadata": {
      "needs_background": "light"
     },
     "output_type": "display_data"
    },
    {
     "data": {
      "image/png": "[encoded data removed]",
      "text/plain": [
       "<Figure size 432x288 with 1 Axes>"
      ]
     },
     "metadata": {
      "needs_background": "light"
     },
     "output_type": "display_data"
    },
    {
     "data": {
      "image/png": "[encoded data removed]",
      "text/plain": [
       "<Figure size 432x288 with 1 Axes>"
      ]
     },
     "metadata": {
      "needs_background": "light"
     },
     "output_type": "display_data"
    },
    {
     "data": {
      "image/png": "[encoded data removed]",
      "text/plain": [
       "<Figure size 432x288 with 1 Axes>"
      ]
     },
     "metadata": {
      "needs_background": "light"
     },
     "output_type": "display_data"
    },
    {
     "data": {
      "image/png": "[encoded data removed]",
      "text/plain": [
       "<Figure size 432x288 with 1 Axes>"
      ]
     },
     "metadata": {
      "needs_background": "light"
     },
     "output_type": "display_data"
    },
    {
     "data": {
      "image/png": "[encoded data removed]",
      "text/plain": [
       "<Figure size 432x288 with 1 Axes>"
      ]
     },
     "metadata": {
      "needs_background": "light"
     },
     "output_type": "display_data"
    },
    {
     "data": {
      "image/png": "[encoded data removed]",
      "text/plain": [
       "<Figure size 432x288 with 1 Axes>"
      ]
     },
     "metadata": {
      "needs_background": "light"
     },
     "output_type": "display_data"
    },
    {
     "data": {
      "image/png": "[encoded data removed]",
      "text/plain": [
       "<Figure size 432x288 with 1 Axes>"
      ]
     },
     "metadata": {
      "needs_background": "light"
     },
     "output_type": "display_data"
    },
    {
     "data": {
      "image/png": "[encoded data removed]",
      "text/plain": [
       "<Figure size 432x288 with 1 Axes>"
      ]
     },
     "metadata": {
      "needs_background": "light"
     },
     "output_type": "display_data"
    },
    {
     "data": {
      "image/png": "[encoded data removed]",
      "text/plain": [
       "<Figure size 432x288 with 1 Axes>"
      ]
     },
     "metadata": {
      "needs_background": "light"
     },
     "output_type": "display_data"
    },
    {
     "data": {
      "image/png": "[encoded data removed]",
      "text/plain": [
       "<Figure size 432x288 with 1 Axes>"
      ]
     },
     "metadata": {
      "needs_background": "light"
     },
     "output_type": "display_data"
    },
    {
     "data": {
      "image/png": "[encoded data removed]",
      "text/plain": [
       "<Figure size 432x288 with 1 Axes>"
      ]
     },
     "metadata": {
      "needs_background": "light"
     },
     "output_type": "display_data"
    },
    {
     "data": {
      "image/png": "[encoded data removed]",
      "text/plain": [
       "<Figure size 432x288 with 1 Axes>"
      ]
     },
     "metadata": {
      "needs_background": "light"
     },
     "output_type": "display_data"
    },
    {
     "data": {
      "image/png": "[encoded data removed]",
      "text/plain": [
       "<Figure size 432x288 with 1 Axes>"
      ]
     },
     "metadata": {
      "needs_background": "light"
     },
     "output_type": "display_data"
    },
    {
     "data": {
      "image/png": "[encoded data removed]",
      "text/plain": [
       "<Figure size 432x288 with 1 Axes>"
      ]
     },
     "metadata": {
      "needs_background": "light"
     },
     "output_type": "display_data"
    },
    {
     "data": {
      "image/png": "[encoded data removed]",
      "text/plain": [
       "<Figure size 432x288 with 1 Axes>"
      ]
     },
     "metadata": {
      "needs_background": "light"
     },
     "output_type": "display_data"
    },
    {
     "data": {
      "image/png": "[encoded data removed]",
      "text/plain": [
       "<Figure size 432x288 with 1 Axes>"
      ]
     },
     "metadata": {
      "needs_background": "light"
     },
     "output_type": "display_data"
    },
    {
     "data": {
      "image/png": "[encoded data removed]",
      "text/plain": [
       "<Figure size 432x288 with 1 Axes>"
      ]
     },
     "metadata": {
      "needs_background": "light"
     },
     "output_type": "display_data"
    },
    {
     "data": {
      "image/png": "[encoded data removed]",
      "text/plain": [
       "<Figure size 432x288 with 1 Axes>"
      ]
     },
     "metadata": {
      "needs_background": "light"
     },
     "output_type": "display_data"
    },
    {
     "data": {
      "image/png": "[encoded data removed]",
      "text/plain": [
       "<Figure size 432x288 with 1 Axes>"
      ]
     },
     "metadata": {
      "needs_background": "light"
     },
     "output_type": "display_data"
    },
    {
     "data": {
      "image/png": "[encoded data removed]",
      "text/plain": [
       "<Figure size 432x288 with 1 Axes>"
      ]
     },
     "metadata": {
      "needs_background": "light"
     },
     "output_type": "display_data"
    },
    {
     "data": {
      "image/png": "[encoded data removed]",
      "text/plain": [
       "<Figure size 432x288 with 1 Axes>"
      ]
     },
     "metadata": {
      "needs_background": "light"
     },
     "output_type": "display_data"
    },
    {
     "data": {
      "image/png": "[encoded data removed]",
      "text/plain": [
       "<Figure size 432x288 with 1 Axes>"
      ]
     },
     "metadata": {
      "needs_background": "light"
     },
     "output_type": "display_data"
    },
    {
     "data": {
      "image/png": "[encoded data removed]",
      "text/plain": [
       "<Figure size 432x288 with 1 Axes>"
      ]
     },
     "metadata": {
      "needs_background": "light"
     },
     "output_type": "display_data"
    },
    {
     "data": {
      "image/png": "[encoded data removed]",
      "text/plain": [
       "<Figure size 432x288 with 1 Axes>"
      ]
     },
     "metadata": {
      "needs_background": "light"
     },
     "output_type": "display_data"
    },
    {
     "data": {
      "image/png": "[encoded data removed]",
      "text/plain": [
       "<Figure size 432x288 with 1 Axes>"
      ]
     },
     "metadata": {
      "needs_background": "light"
     },
     "output_type": "display_data"
    },
    {
     "data": {
      "image/png": "[encoded data removed]",
      "text/plain": [
       "<Figure size 432x288 with 1 Axes>"
      ]
     },
     "metadata": {
      "needs_background": "light"
     },
     "output_type": "display_data"
    },
    {
     "data": {
      "image/png": "[encoded data removed]",
      "text/plain": [
       "<Figure size 432x288 with 1 Axes>"
      ]
     },
     "metadata": {
      "needs_background": "light"
     },
     "output_type": "display_data"
    },
    {
     "data": {
      "image/png": "[encoded data removed]",
      "text/plain": [
       "<Figure size 432x288 with 1 Axes>"
      ]
     },
     "metadata": {
      "needs_background": "light"
     },
     "output_type": "display_data"
    },
    {
     "data": {
      "image/png": "[encoded data removed]",
      "text/plain": [
       "<Figure size 432x288 with 1 Axes>"
      ]
     },
     "metadata": {
      "needs_background": "light"
     },
     "output_type": "display_data"
    },
    {
     "data": {
      "image/png": "[encoded data removed]",
      "text/plain": [
       "<Figure size 432x288 with 1 Axes>"
      ]
     },
     "metadata": {
      "needs_background": "light"
     },
     "output_type": "display_data"
    },
    {
     "data": {
      "image/png": "[encoded data removed]",
      "text/plain": [
       "<Figure size 432x288 with 1 Axes>"
      ]
     },
     "metadata": {
      "needs_background": "light"
     },
     "output_type": "display_data"
    },
    {
     "data": {
      "image/png": "[encoded data removed]",
      "text/plain": [
       "<Figure size 432x288 with 1 Axes>"
      ]
     },
     "metadata": {
      "needs_background": "light"
     },
     "output_type": "display_data"
    },
    {
     "data": {
      "image/png": "[encoded data removed]",
      "text/plain": [
       "<Figure size 432x288 with 1 Axes>"
      ]
     },
     "metadata": {
      "needs_background": "light"
     },
     "output_type": "display_data"
    },
    {
     "data": {
      "image/png": "[encoded data removed]",
      "text/plain": [
       "<Figure size 432x288 with 1 Axes>"
      ]
     },
     "metadata": {
      "needs_background": "light"
     },
     "output_type": "display_data"
    },
    {
     "data": {
      "image/png": "[encoded data removed]",
      "text/plain": [
       "<Figure size 432x288 with 1 Axes>"
      ]
     },
     "metadata": {
      "needs_background": "light"
     },
     "output_type": "display_data"
    },
    {
     "data": {
      "image/png": "[encoded data removed]",
      "text/plain": [
       "<Figure size 432x288 with 1 Axes>"
      ]
     },
     "metadata": {
      "needs_background": "light"
     },
     "output_type": "display_data"
    },
    {
     "data": {
      "image/png": "[encoded data removed]",
      "text/plain": [
       "<Figure size 432x288 with 1 Axes>"
      ]
     },
     "metadata": {
      "needs_background": "light"
     },
     "output_type": "display_data"
    },
    {
     "data": {
      "image/png": "[encoded data removed]",
      "text/plain": [
       "<Figure size 432x288 with 1 Axes>"
      ]
     },
     "metadata": {
      "needs_background": "light"
     },
     "output_type": "display_data"
    },
    {
     "data": {
      "image/png": "[encoded data removed]",
      "text/plain": [
       "<Figure size 432x288 with 1 Axes>"
      ]
     },
     "metadata": {
      "needs_background": "light"
     },
     "output_type": "display_data"
    },
    {
     "data": {
      "image/png": "[encoded data removed]",
      "text/plain": [
       "<Figure size 432x288 with 1 Axes>"
      ]
     },
     "metadata": {
      "needs_background": "light"
     },
     "output_type": "display_data"
    },
    {
     "data": {
      "image/png": "[encoded data removed]",
      "text/plain": [
       "<Figure size 432x288 with 1 Axes>"
      ]
     },
     "metadata": {
      "needs_background": "light"
     },
     "output_type": "display_data"
    },
    {
     "data": {
      "image/png": "[encoded data removed]",
      "text/plain": [
       "<Figure size 432x288 with 1 Axes>"
      ]
     },
     "metadata": {
      "needs_background": "light"
     },
     "output_type": "display_data"
    },
    {
     "data": {
      "image/png": "[encoded data removed]",
      "text/plain": [
       "<Figure size 432x288 with 1 Axes>"
      ]
     },
     "metadata": {
      "needs_background": "light"
     },
     "output_type": "display_data"
    },
    {
     "data": {
      "image/png": "[encoded data removed]",
      "text/plain": [
       "<Figure size 432x288 with 1 Axes>"
      ]
     },
     "metadata": {
      "needs_background": "light"
     },
     "output_type": "display_data"
    },
    {
     "data": {
      "image/png": "[encoded data removed]",
      "text/plain": [
       "<Figure size 432x288 with 1 Axes>"
      ]
     },
     "metadata": {
      "needs_background": "light"
     },
     "output_type": "display_data"
    },
    {
     "data": {
      "image/png": "[encoded data removed]",
      "text/plain": [
       "<Figure size 432x288 with 1 Axes>"
      ]
     },
     "metadata": {
      "needs_background": "light"
     },
     "output_type": "display_data"
    },
    {
     "data": {
      "image/png": "[encoded data removed]",
      "text/plain": [
       "<Figure size 432x288 with 1 Axes>"
      ]
     },
     "metadata": {
      "needs_background": "light"
     },
     "output_type": "display_data"
    },
    {
     "data": {
      "image/png": "[encoded data removed]",
      "text/plain": [
       "<Figure size 432x288 with 1 Axes>"
      ]
     },
     "metadata": {
      "needs_background": "light"
     },
     "output_type": "display_data"
    },
    {
     "data": {
      "image/png": "[encoded data removed]",
      "text/plain": [
       "<Figure size 432x288 with 1 Axes>"
      ]
     },
     "metadata": {
      "needs_background": "light"
     },
     "output_type": "display_data"
    },
    {
     "data": {
      "image/png": "[encoded data removed]",
      "text/plain": [
       "<Figure size 432x288 with 1 Axes>"
      ]
     },
     "metadata": {
      "needs_background": "light"
     },
     "output_type": "display_data"
    },
    {
     "data": {
      "image/png": "[encoded data removed]",
      "text/plain": [
       "<Figure size 432x288 with 1 Axes>"
      ]
     },
     "metadata": {
      "needs_background": "light"
     },
     "output_type": "display_data"
    },
    {
     "data": {
      "image/png": "[encoded data removed]",
      "text/plain": [
       "<Figure size 432x288 with 1 Axes>"
      ]
     },
     "metadata": {
      "needs_background": "light"
     },
     "output_type": "display_data"
    },
    {
     "data": {
      "image/png": "[encoded data removed]",
      "text/plain": [
       "<Figure size 432x288 with 1 Axes>"
      ]
     },
     "metadata": {
      "needs_background": "light"
     },
     "output_type": "display_data"
    },
    {
     "data": {
      "image/png": "[encoded data removed]",
      "text/plain": [
       "<Figure size 432x288 with 1 Axes>"
      ]
     },
     "metadata": {
      "needs_background": "light"
     },
     "output_type": "display_data"
    },
    {
     "data": {
      "image/png": "[encoded data removed]",
      "text/plain": [
       "<Figure size 432x288 with 1 Axes>"
      ]
     },
     "metadata": {
      "needs_background": "light"
     },
     "output_type": "display_data"
    },
    {
     "data": {
      "image/png": "[encoded data removed]",
      "text/plain": [
       "<Figure size 432x288 with 1 Axes>"
      ]
     },
     "metadata": {
      "needs_background": "light"
     },
     "output_type": "display_data"
    },
    {
     "data": {
      "image/png": "[encoded data removed]",
      "text/plain": [
       "<Figure size 432x288 with 1 Axes>"
      ]
     },
     "metadata": {
      "needs_background": "light"
     },
     "output_type": "display_data"
    },
    {
     "data": {
      "image/png": "[encoded data removed]",
      "text/plain": [
       "<Figure size 432x288 with 1 Axes>"
      ]
     },
     "metadata": {
      "needs_background": "light"
     },
     "output_type": "display_data"
    },
    {
     "data": {
      "image/png": "[encoded data removed]",
      "text/plain": [
       "<Figure size 432x288 with 1 Axes>"
      ]
     },
     "metadata": {
      "needs_background": "light"
     },
     "output_type": "display_data"
    },
    {
     "data": {
      "image/png": "[encoded data removed]",
      "text/plain": [
       "<Figure size 432x288 with 1 Axes>"
      ]
     },
     "metadata": {
      "needs_background": "light"
     },
     "output_type": "display_data"
    },
    {
     "data": {
      "image/png": "[encoded data removed]",
      "text/plain": [
       "<Figure size 432x288 with 1 Axes>"
      ]
     },
     "metadata": {
      "needs_background": "light"
     },
     "output_type": "display_data"
    },
    {
     "data": {
      "image/png": "[encoded data removed]",
      "text/plain": [
       "<Figure size 432x288 with 1 Axes>"
      ]
     },
     "metadata": {
      "needs_background": "light"
     },
     "output_type": "display_data"
    },
    {
     "data": {
      "image/png": "[encoded data removed]",
      "text/plain": [
       "<Figure size 432x288 with 1 Axes>"
      ]
     },
     "metadata": {
      "needs_background": "light"
     },
     "output_type": "display_data"
    },
    {
     "data": {
      "image/png": "[encoded data removed]",
      "text/plain": [
       "<Figure size 432x288 with 1 Axes>"
      ]
     },
     "metadata": {
      "needs_background": "light"
     },
     "output_type": "display_data"
    },
    {
     "name": "stdout",
     "output_type": "stream",
     "text": [
      "[]\n"
     ]
    }
   ],
   "source": [
    "## Building a plot of color palettes: https://stackoverflow.com/questions/51728957/create-a-color-palette-image-from-a-list-of-rgb-color#comment90419913_51729498\n",
    "\n",
    "color_nourishknoxville = pd.read_csv(\"./Instagram/colors_nourishknoxville.csv\", index_col = 0, converters={\"Color1\": ast.literal_eval,\n",
    "                                                                                                 \"Color2\": ast.literal_eval,\n",
    "                                                                                                 \"Color3\": ast.literal_eval,\n",
    "                                                                                                 \"Color4\": ast.literal_eval,\n",
    "                                                                                                 \"Color5\": ast.literal_eval,\n",
    "                                                                                                 \"HSL1\": ast.literal_eval,\n",
    "                                                                                                 \"HSL2\": ast.literal_eval,\n",
    "                                                                                                 \"HSL3\": ast.literal_eval,\n",
    "                                                                                                 \"HSL4\": ast.literal_eval,\n",
    "                                                                                                 \"HSL5\": ast.literal_eval})\n",
    "color_nourishknoxville_plt = color_nourishknoxville.loc[:, \"Color1\":\"HSL5\"]\n",
    "color_nourishknoxville_plt\n",
    "\n",
    "arrays = []\n",
    "x = 0\n",
    "y = 0\n",
    "px = 0\n",
    "py = 0\n",
    "cvs = Image.new('RGB',(x*8, y*8))\n",
    "\n",
    "for i in range(len(color_nourishknoxville_plt)):\n",
    "    palette = list(color_nourishknoxville_plt.loc[i, \"Color1\":\"Color5\"])\n",
    "    palette = np.array(palette)[np.newaxis, :, :]\n",
    "    plt.imshow(palette.astype(np.uint8));\n",
    "    plt.axis('off');\n",
    "    plt.savefig(\"./Instagram/nourishknoxville/cpimages/cp_{}\".format(i))\n",
    "    #plt.show();"
   ]
  },
  {
   "cell_type": "code",
   "execution_count": 113,
   "metadata": {},
   "outputs": [
    {
     "data": {
      "image/png": "[encoded data removed]",
      "text/plain": [
       "<PIL.Image.Image image mode=RGB size=3888x2592 at 0x18DCA0C2588>"
      ]
     },
     "execution_count": 113,
     "metadata": {},
     "output_type": "execute_result"
    }
   ],
   "source": [
    "fs = []\n",
    "for i in range(len(color_nourishknoxville_plt)):\n",
    "    im = Image.open('./Instagram/nourishknoxville/cpimages/cp_{}.png'.format(i),'r')\n",
    "    fs.append(im)\n",
    "    \n",
    "# get the image size\n",
    "x,y = fs[0].size\n",
    "\n",
    "ncol = 9\n",
    "nrow = 9\n",
    "cvs = Image.new('RGB',(x*ncol,y*nrow))\n",
    "\n",
    "for i in range(len(fs)):\n",
    "    px, py = x*int(i/nrow), y*(i%nrow)\n",
    "    cvs.paste(fs[i],(px,py))\n",
    "    \n",
    "cvs\n",
    "\n",
    "cvs.save('./Instagram/cp_nourishknoxville.png',format='png')"
   ]
  },
  {
   "cell_type": "code",
   "execution_count": 94,
   "metadata": {},
   "outputs": [
    {
     "data": {
      "image/png": "[encoded data removed]",
      "text/plain": [
       "<Figure size 432x288 with 1 Axes>"
      ]
     },
     "metadata": {
      "needs_background": "light"
     },
     "output_type": "display_data"
    },
    {
     "data": {
      "image/png": "[encoded data removed]",
      "text/plain": [
       "<Figure size 432x288 with 1 Axes>"
      ]
     },
     "metadata": {
      "needs_background": "light"
     },
     "output_type": "display_data"
    },
    {
     "data": {
      "image/png": "[encoded data removed]",
      "text/plain": [
       "<Figure size 432x288 with 1 Axes>"
      ]
     },
     "metadata": {
      "needs_background": "light"
     },
     "output_type": "display_data"
    },
    {
     "data": {
      "image/png": "[encoded data removed]",
      "text/plain": [
       "<Figure size 432x288 with 1 Axes>"
      ]
     },
     "metadata": {
      "needs_background": "light"
     },
     "output_type": "display_data"
    },
    {
     "data": {
      "image/png": "[encoded data removed]",
      "text/plain": [
       "<Figure size 432x288 with 1 Axes>"
      ]
     },
     "metadata": {
      "needs_background": "light"
     },
     "output_type": "display_data"
    },
    {
     "data": {
      "image/png": "[encoded data removed]",
      "text/plain": [
       "<Figure size 432x288 with 1 Axes>"
      ]
     },
     "metadata": {
      "needs_background": "light"
     },
     "output_type": "display_data"
    },
    {
     "data": {
      "image/png": "[encoded data removed]",
      "text/plain": [
       "<Figure size 432x288 with 1 Axes>"
      ]
     },
     "metadata": {
      "needs_background": "light"
     },
     "output_type": "display_data"
    },
    {
     "data": {
      "image/png": "[encoded data removed]",
      "text/plain": [
       "<Figure size 432x288 with 1 Axes>"
      ]
     },
     "metadata": {
      "needs_background": "light"
     },
     "output_type": "display_data"
    },
    {
     "data": {
      "image/png": "[encoded data removed]",
      "text/plain": [
       "<Figure size 432x288 with 1 Axes>"
      ]
     },
     "metadata": {
      "needs_background": "light"
     },
     "output_type": "display_data"
    },
    {
     "data": {
      "image/png": "[encoded data removed]",
      "text/plain": [
       "<Figure size 432x288 with 1 Axes>"
      ]
     },
     "metadata": {
      "needs_background": "light"
     },
     "output_type": "display_data"
    },
    {
     "data": {
      "image/png": "[encoded data removed]",
      "text/plain": [
       "<Figure size 432x288 with 1 Axes>"
      ]
     },
     "metadata": {
      "needs_background": "light"
     },
     "output_type": "display_data"
    },
    {
     "data": {
      "image/png": "[encoded data removed]",
      "text/plain": [
       "<Figure size 432x288 with 1 Axes>"
      ]
     },
     "metadata": {
      "needs_background": "light"
     },
     "output_type": "display_data"
    },
    {
     "data": {
      "image/png": "[encoded data removed]",
      "text/plain": [
       "<Figure size 432x288 with 1 Axes>"
      ]
     },
     "metadata": {
      "needs_background": "light"
     },
     "output_type": "display_data"
    },
    {
     "data": {
      "image/png": "[encoded data removed]",
      "text/plain": [
       "<Figure size 432x288 with 1 Axes>"
      ]
     },
     "metadata": {
      "needs_background": "light"
     },
     "output_type": "display_data"
    },
    {
     "data": {
      "image/png": "[encoded data removed]",
      "text/plain": [
       "<Figure size 432x288 with 1 Axes>"
      ]
     },
     "metadata": {
      "needs_background": "light"
     },
     "output_type": "display_data"
    },
    {
     "data": {
      "image/png": "[encoded data removed]",
      "text/plain": [
       "<Figure size 432x288 with 1 Axes>"
      ]
     },
     "metadata": {
      "needs_background": "light"
     },
     "output_type": "display_data"
    },
    {
     "data": {
      "image/png": "[encoded data removed]",
      "text/plain": [
       "<Figure size 432x288 with 1 Axes>"
      ]
     },
     "metadata": {
      "needs_background": "light"
     },
     "output_type": "display_data"
    },
    {
     "data": {
      "image/png": "[encoded data removed]",
      "text/plain": [
       "<Figure size 432x288 with 1 Axes>"
      ]
     },
     "metadata": {
      "needs_background": "light"
     },
     "output_type": "display_data"
    },
    {
     "data": {
      "image/png": "[encoded data removed]",
      "text/plain": [
       "<Figure size 432x288 with 1 Axes>"
      ]
     },
     "metadata": {
      "needs_background": "light"
     },
     "output_type": "display_data"
    },
    {
     "data": {
      "image/png": "[encoded data removed]",
      "text/plain": [
       "<Figure size 432x288 with 1 Axes>"
      ]
     },
     "metadata": {
      "needs_background": "light"
     },
     "output_type": "display_data"
    },
    {
     "data": {
      "image/png": "[encoded data removed]",
      "text/plain": [
       "<Figure size 432x288 with 1 Axes>"
      ]
     },
     "metadata": {
      "needs_background": "light"
     },
     "output_type": "display_data"
    },
    {
     "data": {
      "image/png": "[encoded data removed]",
      "text/plain": [
       "<Figure size 432x288 with 1 Axes>"
      ]
     },
     "metadata": {
      "needs_background": "light"
     },
     "output_type": "display_data"
    },
    {
     "data": {
      "image/png": "[encoded data removed]",
      "text/plain": [
       "<Figure size 432x288 with 1 Axes>"
      ]
     },
     "metadata": {
      "needs_background": "light"
     },
     "output_type": "display_data"
    },
    {
     "data": {
      "image/png": "[encoded data removed]",
      "text/plain": [
       "<Figure size 432x288 with 1 Axes>"
      ]
     },
     "metadata": {
      "needs_background": "light"
     },
     "output_type": "display_data"
    },
    {
     "data": {
      "image/png": "[encoded data removed]",
      "text/plain": [
       "<Figure size 432x288 with 1 Axes>"
      ]
     },
     "metadata": {
      "needs_background": "light"
     },
     "output_type": "display_data"
    },
    {
     "data": {
      "image/png": "[encoded data removed]",
      "text/plain": [
       "<Figure size 432x288 with 1 Axes>"
      ]
     },
     "metadata": {
      "needs_background": "light"
     },
     "output_type": "display_data"
    },
    {
     "data": {
      "image/png": "[encoded data removed]",
      "text/plain": [
       "<Figure size 432x288 with 1 Axes>"
      ]
     },
     "metadata": {
      "needs_background": "light"
     },
     "output_type": "display_data"
    },
    {
     "data": {
      "image/png": "[encoded data removed]",
      "text/plain": [
       "<Figure size 432x288 with 1 Axes>"
      ]
     },
     "metadata": {
      "needs_background": "light"
     },
     "output_type": "display_data"
    },
    {
     "data": {
      "image/png": "[encoded data removed]",
      "text/plain": [
       "<Figure size 432x288 with 1 Axes>"
      ]
     },
     "metadata": {
      "needs_background": "light"
     },
     "output_type": "display_data"
    },
    {
     "data": {
      "image/png": "[encoded data removed]",
      "text/plain": [
       "<Figure size 432x288 with 1 Axes>"
      ]
     },
     "metadata": {
      "needs_background": "light"
     },
     "output_type": "display_data"
    },
    {
     "data": {
      "image/png": "[encoded data removed]",
      "text/plain": [
       "<Figure size 432x288 with 1 Axes>"
      ]
     },
     "metadata": {
      "needs_background": "light"
     },
     "output_type": "display_data"
    },
    {
     "data": {
      "image/png": "[encoded data removed]",
      "text/plain": [
       "<Figure size 432x288 with 1 Axes>"
      ]
     },
     "metadata": {
      "needs_background": "light"
     },
     "output_type": "display_data"
    },
    {
     "data": {
      "image/png": "[encoded data removed]",
      "text/plain": [
       "<Figure size 432x288 with 1 Axes>"
      ]
     },
     "metadata": {
      "needs_background": "light"
     },
     "output_type": "display_data"
    },
    {
     "data": {
      "image/png": "[encoded data removed]",
      "text/plain": [
       "<Figure size 432x288 with 1 Axes>"
      ]
     },
     "metadata": {
      "needs_background": "light"
     },
     "output_type": "display_data"
    },
    {
     "data": {
      "image/png": "[encoded data removed]",
      "text/plain": [
       "<Figure size 432x288 with 1 Axes>"
      ]
     },
     "metadata": {
      "needs_background": "light"
     },
     "output_type": "display_data"
    },
    {
     "data": {
      "image/png": "[encoded data removed]",
      "text/plain": [
       "<Figure size 432x288 with 1 Axes>"
      ]
     },
     "metadata": {
      "needs_background": "light"
     },
     "output_type": "display_data"
    },
    {
     "data": {
      "image/png": "[encoded data removed]",
      "text/plain": [
       "<Figure size 432x288 with 1 Axes>"
      ]
     },
     "metadata": {
      "needs_background": "light"
     },
     "output_type": "display_data"
    },
    {
     "data": {
      "image/png": "[encoded data removed]",
      "text/plain": [
       "<Figure size 432x288 with 1 Axes>"
      ]
     },
     "metadata": {
      "needs_background": "light"
     },
     "output_type": "display_data"
    },
    {
     "data": {
      "image/png": "[encoded data removed]",
      "text/plain": [
       "<Figure size 432x288 with 1 Axes>"
      ]
     },
     "metadata": {
      "needs_background": "light"
     },
     "output_type": "display_data"
    },
    {
     "data": {
      "image/png": "[encoded data removed]",
      "text/plain": [
       "<Figure size 432x288 with 1 Axes>"
      ]
     },
     "metadata": {
      "needs_background": "light"
     },
     "output_type": "display_data"
    },
    {
     "data": {
      "image/png": "[encoded data removed]",
      "text/plain": [
       "<Figure size 432x288 with 1 Axes>"
      ]
     },
     "metadata": {
      "needs_background": "light"
     },
     "output_type": "display_data"
    },
    {
     "data": {
      "image/png": "[encoded data removed]",
      "text/plain": [
       "<Figure size 432x288 with 1 Axes>"
      ]
     },
     "metadata": {
      "needs_background": "light"
     },
     "output_type": "display_data"
    },
    {
     "data": {
      "image/png": "[encoded data removed]",
      "text/plain": [
       "<Figure size 432x288 with 1 Axes>"
      ]
     },
     "metadata": {
      "needs_background": "light"
     },
     "output_type": "display_data"
    },
    {
     "data": {
      "image/png": "[encoded data removed]",
      "text/plain": [
       "<Figure size 432x288 with 1 Axes>"
      ]
     },
     "metadata": {
      "needs_background": "light"
     },
     "output_type": "display_data"
    },
    {
     "data": {
      "image/png": "[encoded data removed]",
      "text/plain": [
       "<Figure size 432x288 with 1 Axes>"
      ]
     },
     "metadata": {
      "needs_background": "light"
     },
     "output_type": "display_data"
    },
    {
     "data": {
      "image/png": "[encoded data removed]",
      "text/plain": [
       "<Figure size 432x288 with 1 Axes>"
      ]
     },
     "metadata": {
      "needs_background": "light"
     },
     "output_type": "display_data"
    },
    {
     "data": {
      "image/png": "[encoded data removed]",
      "text/plain": [
       "<Figure size 432x288 with 1 Axes>"
      ]
     },
     "metadata": {
      "needs_background": "light"
     },
     "output_type": "display_data"
    },
    {
     "data": {
      "image/png": "[encoded data removed]",
      "text/plain": [
       "<Figure size 432x288 with 1 Axes>"
      ]
     },
     "metadata": {
      "needs_background": "light"
     },
     "output_type": "display_data"
    },
    {
     "data": {
      "image/png": "[encoded data removed]",
      "text/plain": [
       "<Figure size 432x288 with 1 Axes>"
      ]
     },
     "metadata": {
      "needs_background": "light"
     },
     "output_type": "display_data"
    },
    {
     "data": {
      "image/png": "[encoded data removed]",
      "text/plain": [
       "<Figure size 432x288 with 1 Axes>"
      ]
     },
     "metadata": {
      "needs_background": "light"
     },
     "output_type": "display_data"
    },
    {
     "data": {
      "image/png": "[encoded data removed]",
      "text/plain": [
       "<Figure size 432x288 with 1 Axes>"
      ]
     },
     "metadata": {
      "needs_background": "light"
     },
     "output_type": "display_data"
    },
    {
     "data": {
      "image/png": "[encoded data removed]",
      "text/plain": [
       "<Figure size 432x288 with 1 Axes>"
      ]
     },
     "metadata": {
      "needs_background": "light"
     },
     "output_type": "display_data"
    },
    {
     "data": {
      "image/png": "[encoded data removed]",
      "text/plain": [
       "<Figure size 432x288 with 1 Axes>"
      ]
     },
     "metadata": {
      "needs_background": "light"
     },
     "output_type": "display_data"
    },
    {
     "data": {
      "image/png": "[encoded data removed]",
      "text/plain": [
       "<Figure size 432x288 with 1 Axes>"
      ]
     },
     "metadata": {
      "needs_background": "light"
     },
     "output_type": "display_data"
    },
    {
     "data": {
      "image/png": "[encoded data removed]",
      "text/plain": [
       "<Figure size 432x288 with 1 Axes>"
      ]
     },
     "metadata": {
      "needs_background": "light"
     },
     "output_type": "display_data"
    },
    {
     "data": {
      "image/png": "[encoded data removed]",
      "text/plain": [
       "<Figure size 432x288 with 1 Axes>"
      ]
     },
     "metadata": {
      "needs_background": "light"
     },
     "output_type": "display_data"
    },
    {
     "data": {
      "image/png": "[encoded data removed]",
      "text/plain": [
       "<Figure size 432x288 with 1 Axes>"
      ]
     },
     "metadata": {
      "needs_background": "light"
     },
     "output_type": "display_data"
    },
    {
     "data": {
      "image/png": "[encoded data removed]",
      "text/plain": [
       "<Figure size 432x288 with 1 Axes>"
      ]
     },
     "metadata": {
      "needs_background": "light"
     },
     "output_type": "display_data"
    },
    {
     "data": {
      "image/png": "[encoded data removed]",
      "text/plain": [
       "<Figure size 432x288 with 1 Axes>"
      ]
     },
     "metadata": {
      "needs_background": "light"
     },
     "output_type": "display_data"
    },
    {
     "data": {
      "image/png": "[encoded data removed]",
      "text/plain": [
       "<Figure size 432x288 with 1 Axes>"
      ]
     },
     "metadata": {
      "needs_background": "light"
     },
     "output_type": "display_data"
    },
    {
     "data": {
      "image/png": "[encoded data removed]",
      "text/plain": [
       "<Figure size 432x288 with 1 Axes>"
      ]
     },
     "metadata": {
      "needs_background": "light"
     },
     "output_type": "display_data"
    },
    {
     "data": {
      "image/png": "[encoded data removed]",
      "text/plain": [
       "<Figure size 432x288 with 1 Axes>"
      ]
     },
     "metadata": {
      "needs_background": "light"
     },
     "output_type": "display_data"
    },
    {
     "data": {
      "image/png": "[encoded data removed]",
      "text/plain": [
       "<Figure size 432x288 with 1 Axes>"
      ]
     },
     "metadata": {
      "needs_background": "light"
     },
     "output_type": "display_data"
    },
    {
     "data": {
      "image/png": "[encoded data removed]",
      "text/plain": [
       "<Figure size 432x288 with 1 Axes>"
      ]
     },
     "metadata": {
      "needs_background": "light"
     },
     "output_type": "display_data"
    },
    {
     "data": {
      "image/png": "[encoded data removed]",
      "text/plain": [
       "<Figure size 432x288 with 1 Axes>"
      ]
     },
     "metadata": {
      "needs_background": "light"
     },
     "output_type": "display_data"
    },
    {
     "data": {
      "image/png": "[encoded data removed]",
      "text/plain": [
       "<Figure size 432x288 with 1 Axes>"
      ]
     },
     "metadata": {
      "needs_background": "light"
     },
     "output_type": "display_data"
    },
    {
     "data": {
      "image/png": "[encoded data removed]",
      "text/plain": [
       "<Figure size 432x288 with 1 Axes>"
      ]
     },
     "metadata": {
      "needs_background": "light"
     },
     "output_type": "display_data"
    },
    {
     "data": {
      "image/png": "[encoded data removed]",
      "text/plain": [
       "<Figure size 432x288 with 1 Axes>"
      ]
     },
     "metadata": {
      "needs_background": "light"
     },
     "output_type": "display_data"
    },
    {
     "data": {
      "image/png": "[encoded data removed]",
      "text/plain": [
       "<Figure size 432x288 with 1 Axes>"
      ]
     },
     "metadata": {
      "needs_background": "light"
     },
     "output_type": "display_data"
    },
    {
     "data": {
      "image/png": "[encoded data removed]",
      "text/plain": [
       "<Figure size 432x288 with 1 Axes>"
      ]
     },
     "metadata": {
      "needs_background": "light"
     },
     "output_type": "display_data"
    },
    {
     "data": {
      "image/png": "[encoded data removed]",
      "text/plain": [
       "<Figure size 432x288 with 1 Axes>"
      ]
     },
     "metadata": {
      "needs_background": "light"
     },
     "output_type": "display_data"
    },
    {
     "data": {
      "image/png": "[encoded data removed]",
      "text/plain": [
       "<Figure size 432x288 with 1 Axes>"
      ]
     },
     "metadata": {
      "needs_background": "light"
     },
     "output_type": "display_data"
    },
    {
     "data": {
      "image/png": "[encoded data removed]",
      "text/plain": [
       "<Figure size 432x288 with 1 Axes>"
      ]
     },
     "metadata": {
      "needs_background": "light"
     },
     "output_type": "display_data"
    },
    {
     "data": {
      "image/png": "[encoded data removed]",
      "text/plain": [
       "<Figure size 432x288 with 1 Axes>"
      ]
     },
     "metadata": {
      "needs_background": "light"
     },
     "output_type": "display_data"
    },
    {
     "data": {
      "image/png": "[encoded data removed]",
      "text/plain": [
       "<Figure size 432x288 with 1 Axes>"
      ]
     },
     "metadata": {
      "needs_background": "light"
     },
     "output_type": "display_data"
    },
    {
     "data": {
      "image/png": "[encoded data removed]",
      "text/plain": [
       "<Figure size 432x288 with 1 Axes>"
      ]
     },
     "metadata": {
      "needs_background": "light"
     },
     "output_type": "display_data"
    },
    {
     "data": {
      "image/png": "[encoded data removed]",
      "text/plain": [
       "<Figure size 432x288 with 1 Axes>"
      ]
     },
     "metadata": {
      "needs_background": "light"
     },
     "output_type": "display_data"
    },
    {
     "data": {
      "image/png": "[encoded data removed]",
      "text/plain": [
       "<Figure size 432x288 with 1 Axes>"
      ]
     },
     "metadata": {
      "needs_background": "light"
     },
     "output_type": "display_data"
    },
    {
     "data": {
      "image/png": "[encoded data removed]",
      "text/plain": [
       "<Figure size 432x288 with 1 Axes>"
      ]
     },
     "metadata": {
      "needs_background": "light"
     },
     "output_type": "display_data"
    },
    {
     "data": {
      "image/png": "[encoded data removed]",
      "text/plain": [
       "<Figure size 432x288 with 1 Axes>"
      ]
     },
     "metadata": {
      "needs_background": "light"
     },
     "output_type": "display_data"
    }
   ],
   "source": [
    "color_nourishknoxville = pd.read_csv(\"./Instagram/colors_nourishknoxville.csv\", index_col = 0, converters={\"Color1\": ast.literal_eval,\n",
    "                                                                                                 \"Color2\": ast.literal_eval,\n",
    "                                                                                                 \"Color3\": ast.literal_eval,\n",
    "                                                                                                 \"Color4\": ast.literal_eval,\n",
    "                                                                                                 \"Color5\": ast.literal_eval,\n",
    "                                                                                                 \"HSL1\": ast.literal_eval,\n",
    "                                                                                                 \"HSL2\": ast.literal_eval,\n",
    "                                                                                                 \"HSL3\": ast.literal_eval,\n",
    "                                                                                                 \"HSL4\": ast.literal_eval,\n",
    "                                                                                                 \"HSL5\": ast.literal_eval})\n",
    "color_nourishknoxville_plt = color_nourishknoxville.loc[:, \"Color1\":\"HSL5\"]\n",
    "color_nourishknoxville_plt\n",
    "\n",
    "cvs = Image.new('RGB',(x*8, y*8))\n",
    "\n",
    "for i in range(len(color_nourishknoxville_plt)):\n",
    "    palette = list(color_nourishknoxville_plt.loc[i, \"Color1\":\"Color5\"])\n",
    "    palette = np.array(palette)[np.newaxis, :, :]\n",
    "    plt.imshow(palette.astype(np.uint8));\n",
    "    plt.axis('off');\n",
    "    plt.savefig(\"./Instagram/nourishknoxville/cpimages/cp_{}\".format(i))\n",
    "    #plt.show();\n",
    "    \n",
    "fs = []\n",
    "for i in range(len(color_nourishknoxville_plt)):\n",
    "    im = Image.open('./Instagram/nourishknoxville/cpimages/cp_{}.png'.format(i),'r')\n",
    "    fs.append(im)\n",
    "    \n",
    "# get the image size\n",
    "x,y = fs[0].size\n",
    "\n",
    "ncol = 9\n",
    "nrow = 9\n",
    "cvs = Image.new('RGB',(x*ncol,y*nrow))\n",
    "\n",
    "for i in range(len(fs)):\n",
    "    px, py = x*int(i/nrow), y*(i%nrow)\n",
    "    cvs.paste(fs[i],(px,py))\n",
    "    \n",
    "cvs\n",
    "\n",
    "cvs.save('./Instagram/cp_nourishknoxville.png',format='png')"
   ]
  },
  {
   "cell_type": "code",
   "execution_count": 92,
   "metadata": {},
   "outputs": [
    {
     "data": {
      "image/png": "[encoded data removed]",
      "text/plain": [
       "<Figure size 432x288 with 1 Axes>"
      ]
     },
     "metadata": {
      "needs_background": "light"
     },
     "output_type": "display_data"
    },
    {
     "data": {
      "image/png": "[encoded data removed]",
      "text/plain": [
       "<Figure size 432x288 with 1 Axes>"
      ]
     },
     "metadata": {
      "needs_background": "light"
     },
     "output_type": "display_data"
    },
    {
     "data": {
      "image/png": "[encoded data removed]",
      "text/plain": [
       "<Figure size 432x288 with 1 Axes>"
      ]
     },
     "metadata": {
      "needs_background": "light"
     },
     "output_type": "display_data"
    },
    {
     "data": {
      "image/png": "[encoded data removed]",
      "text/plain": [
       "<Figure size 432x288 with 1 Axes>"
      ]
     },
     "metadata": {
      "needs_background": "light"
     },
     "output_type": "display_data"
    },
    {
     "data": {
      "image/png": "[encoded data removed]",
      "text/plain": [
       "<Figure size 432x288 with 1 Axes>"
      ]
     },
     "metadata": {
      "needs_background": "light"
     },
     "output_type": "display_data"
    },
    {
     "data": {
      "image/png": "[encoded data removed]",
      "text/plain": [
       "<Figure size 432x288 with 1 Axes>"
      ]
     },
     "metadata": {
      "needs_background": "light"
     },
     "output_type": "display_data"
    },
    {
     "data": {
      "image/png": "[encoded data removed]",
      "text/plain": [
       "<Figure size 432x288 with 1 Axes>"
      ]
     },
     "metadata": {
      "needs_background": "light"
     },
     "output_type": "display_data"
    },
    {
     "data": {
      "image/png": "[encoded data removed]",
      "text/plain": [
       "<Figure size 432x288 with 1 Axes>"
      ]
     },
     "metadata": {
      "needs_background": "light"
     },
     "output_type": "display_data"
    },
    {
     "data": {
      "image/png": "[encoded data removed]",
      "text/plain": [
       "<Figure size 432x288 with 1 Axes>"
      ]
     },
     "metadata": {
      "needs_background": "light"
     },
     "output_type": "display_data"
    },
    {
     "data": {
      "image/png": "[encoded data removed]",
      "text/plain": [
       "<Figure size 432x288 with 1 Axes>"
      ]
     },
     "metadata": {
      "needs_background": "light"
     },
     "output_type": "display_data"
    },
    {
     "data": {
      "image/png": "[encoded data removed]",
      "text/plain": [
       "<Figure size 432x288 with 1 Axes>"
      ]
     },
     "metadata": {
      "needs_background": "light"
     },
     "output_type": "display_data"
    },
    {
     "data": {
      "image/png": "[encoded data removed]",
      "text/plain": [
       "<Figure size 432x288 with 1 Axes>"
      ]
     },
     "metadata": {
      "needs_background": "light"
     },
     "output_type": "display_data"
    },
    {
     "data": {
      "image/png": "[encoded data removed]",
      "text/plain": [
       "<Figure size 432x288 with 1 Axes>"
      ]
     },
     "metadata": {
      "needs_background": "light"
     },
     "output_type": "display_data"
    },
    {
     "data": {
      "image/png": "[encoded data removed]",
      "text/plain": [
       "<Figure size 432x288 with 1 Axes>"
      ]
     },
     "metadata": {
      "needs_background": "light"
     },
     "output_type": "display_data"
    },
    {
     "data": {
      "image/png": "[encoded data removed]",
      "text/plain": [
       "<Figure size 432x288 with 1 Axes>"
      ]
     },
     "metadata": {
      "needs_background": "light"
     },
     "output_type": "display_data"
    },
    {
     "data": {
      "image/png": "[encoded data removed]",
      "text/plain": [
       "<Figure size 432x288 with 1 Axes>"
      ]
     },
     "metadata": {
      "needs_background": "light"
     },
     "output_type": "display_data"
    },
    {
     "data": {
      "image/png": "[encoded data removed]",
      "text/plain": [
       "<Figure size 432x288 with 1 Axes>"
      ]
     },
     "metadata": {
      "needs_background": "light"
     },
     "output_type": "display_data"
    },
    {
     "data": {
      "image/png": "[encoded data removed]",
      "text/plain": [
       "<Figure size 432x288 with 1 Axes>"
      ]
     },
     "metadata": {
      "needs_background": "light"
     },
     "output_type": "display_data"
    },
    {
     "data": {
      "image/png": "[encoded data removed]",
      "text/plain": [
       "<Figure size 432x288 with 1 Axes>"
      ]
     },
     "metadata": {
      "needs_background": "light"
     },
     "output_type": "display_data"
    },
    {
     "data": {
      "image/png": "[encoded data removed]",
      "text/plain": [
       "<Figure size 432x288 with 1 Axes>"
      ]
     },
     "metadata": {
      "needs_background": "light"
     },
     "output_type": "display_data"
    },
    {
     "data": {
      "image/png": "[encoded data removed]",
      "text/plain": [
       "<Figure size 432x288 with 1 Axes>"
      ]
     },
     "metadata": {
      "needs_background": "light"
     },
     "output_type": "display_data"
    },
    {
     "data": {
      "image/png": "[encoded data removed]",
      "text/plain": [
       "<Figure size 432x288 with 1 Axes>"
      ]
     },
     "metadata": {
      "needs_background": "light"
     },
     "output_type": "display_data"
    },
    {
     "data": {
      "image/png": "[encoded data removed]",
      "text/plain": [
       "<Figure size 432x288 with 1 Axes>"
      ]
     },
     "metadata": {
      "needs_background": "light"
     },
     "output_type": "display_data"
    },
    {
     "data": {
      "image/png": "[encoded data removed]",
      "text/plain": [
       "<Figure size 432x288 with 1 Axes>"
      ]
     },
     "metadata": {
      "needs_background": "light"
     },
     "output_type": "display_data"
    },
    {
     "data": {
      "image/png": "[encoded data removed]",
      "text/plain": [
       "<Figure size 432x288 with 1 Axes>"
      ]
     },
     "metadata": {
      "needs_background": "light"
     },
     "output_type": "display_data"
    },
    {
     "data": {
      "image/png": "[encoded data removed]",
      "text/plain": [
       "<Figure size 432x288 with 1 Axes>"
      ]
     },
     "metadata": {
      "needs_background": "light"
     },
     "output_type": "display_data"
    },
    {
     "data": {
      "image/png": "[encoded data removed]",
      "text/plain": [
       "<Figure size 432x288 with 1 Axes>"
      ]
     },
     "metadata": {
      "needs_background": "light"
     },
     "output_type": "display_data"
    },
    {
     "data": {
      "image/png": "[encoded data removed]",
      "text/plain": [
       "<Figure size 432x288 with 1 Axes>"
      ]
     },
     "metadata": {
      "needs_background": "light"
     },
     "output_type": "display_data"
    },
    {
     "data": {
      "image/png": "[encoded data removed]",
      "text/plain": [
       "<Figure size 432x288 with 1 Axes>"
      ]
     },
     "metadata": {
      "needs_background": "light"
     },
     "output_type": "display_data"
    },
    {
     "data": {
      "image/png": "[encoded data removed]",
      "text/plain": [
       "<Figure size 432x288 with 1 Axes>"
      ]
     },
     "metadata": {
      "needs_background": "light"
     },
     "output_type": "display_data"
    },
    {
     "data": {
      "image/png": "[encoded data removed]",
      "text/plain": [
       "<Figure size 432x288 with 1 Axes>"
      ]
     },
     "metadata": {
      "needs_background": "light"
     },
     "output_type": "display_data"
    },
    {
     "data": {
      "image/png": "[encoded data removed]",
      "text/plain": [
       "<Figure size 432x288 with 1 Axes>"
      ]
     },
     "metadata": {
      "needs_background": "light"
     },
     "output_type": "display_data"
    },
    {
     "data": {
      "image/png": "[encoded data removed]",
      "text/plain": [
       "<Figure size 432x288 with 1 Axes>"
      ]
     },
     "metadata": {
      "needs_background": "light"
     },
     "output_type": "display_data"
    },
    {
     "data": {
      "image/png": "[encoded data removed]",
      "text/plain": [
       "<Figure size 432x288 with 1 Axes>"
      ]
     },
     "metadata": {
      "needs_background": "light"
     },
     "output_type": "display_data"
    },
    {
     "data": {
      "image/png": "[encoded data removed]",
      "text/plain": [
       "<Figure size 432x288 with 1 Axes>"
      ]
     },
     "metadata": {
      "needs_background": "light"
     },
     "output_type": "display_data"
    },
    {
     "data": {
      "image/png": "[encoded data removed]",
      "text/plain": [
       "<Figure size 432x288 with 1 Axes>"
      ]
     },
     "metadata": {
      "needs_background": "light"
     },
     "output_type": "display_data"
    },
    {
     "data": {
      "image/png": "[encoded data removed]",
      "text/plain": [
       "<Figure size 432x288 with 1 Axes>"
      ]
     },
     "metadata": {
      "needs_background": "light"
     },
     "output_type": "display_data"
    },
    {
     "data": {
      "image/png": "[encoded data removed]",
      "text/plain": [
       "<Figure size 432x288 with 1 Axes>"
      ]
     },
     "metadata": {
      "needs_background": "light"
     },
     "output_type": "display_data"
    },
    {
     "data": {
      "image/png": "[encoded data removed]",
      "text/plain": [
       "<Figure size 432x288 with 1 Axes>"
      ]
     },
     "metadata": {
      "needs_background": "light"
     },
     "output_type": "display_data"
    },
    {
     "data": {
      "image/png": "[encoded data removed]",
      "text/plain": [
       "<Figure size 432x288 with 1 Axes>"
      ]
     },
     "metadata": {
      "needs_background": "light"
     },
     "output_type": "display_data"
    },
    {
     "data": {
      "image/png": "[encoded data removed]",
      "text/plain": [
       "<Figure size 432x288 with 1 Axes>"
      ]
     },
     "metadata": {
      "needs_background": "light"
     },
     "output_type": "display_data"
    },
    {
     "data": {
      "image/png": "[encoded data removed]",
      "text/plain": [
       "<Figure size 432x288 with 1 Axes>"
      ]
     },
     "metadata": {
      "needs_background": "light"
     },
     "output_type": "display_data"
    },
    {
     "data": {
      "image/png": "[encoded data removed]",
      "text/plain": [
       "<Figure size 432x288 with 1 Axes>"
      ]
     },
     "metadata": {
      "needs_background": "light"
     },
     "output_type": "display_data"
    },
    {
     "data": {
      "image/png": "[encoded data removed]",
      "text/plain": [
       "<Figure size 432x288 with 1 Axes>"
      ]
     },
     "metadata": {
      "needs_background": "light"
     },
     "output_type": "display_data"
    },
    {
     "data": {
      "image/png": "[encoded data removed]",
      "text/plain": [
       "<Figure size 432x288 with 1 Axes>"
      ]
     },
     "metadata": {
      "needs_background": "light"
     },
     "output_type": "display_data"
    },
    {
     "data": {
      "image/png": "[encoded data removed]",
      "text/plain": [
       "<Figure size 432x288 with 1 Axes>"
      ]
     },
     "metadata": {
      "needs_background": "light"
     },
     "output_type": "display_data"
    },
    {
     "data": {
      "image/png": "[encoded data removed]",
      "text/plain": [
       "<Figure size 432x288 with 1 Axes>"
      ]
     },
     "metadata": {
      "needs_background": "light"
     },
     "output_type": "display_data"
    },
    {
     "data": {
      "image/png": "[encoded data removed]",
      "text/plain": [
       "<Figure size 432x288 with 1 Axes>"
      ]
     },
     "metadata": {
      "needs_background": "light"
     },
     "output_type": "display_data"
    },
    {
     "data": {
      "image/png": "[encoded data removed]",
      "text/plain": [
       "<Figure size 432x288 with 1 Axes>"
      ]
     },
     "metadata": {
      "needs_background": "light"
     },
     "output_type": "display_data"
    },
    {
     "data": {
      "image/png": "[encoded data removed]",
      "text/plain": [
       "<Figure size 432x288 with 1 Axes>"
      ]
     },
     "metadata": {
      "needs_background": "light"
     },
     "output_type": "display_data"
    },
    {
     "data": {
      "image/png": "[encoded data removed]",
      "text/plain": [
       "<Figure size 432x288 with 1 Axes>"
      ]
     },
     "metadata": {
      "needs_background": "light"
     },
     "output_type": "display_data"
    },
    {
     "data": {
      "image/png": "[encoded data removed]",
      "text/plain": [
       "<Figure size 432x288 with 1 Axes>"
      ]
     },
     "metadata": {
      "needs_background": "light"
     },
     "output_type": "display_data"
    },
    {
     "data": {
      "image/png": "[encoded data removed]",
      "text/plain": [
       "<Figure size 432x288 with 1 Axes>"
      ]
     },
     "metadata": {
      "needs_background": "light"
     },
     "output_type": "display_data"
    },
    {
     "data": {
      "image/png": "[encoded data removed]",
      "text/plain": [
       "<Figure size 432x288 with 1 Axes>"
      ]
     },
     "metadata": {
      "needs_background": "light"
     },
     "output_type": "display_data"
    },
    {
     "data": {
      "image/png": "[encoded data removed]",
      "text/plain": [
       "<Figure size 432x288 with 1 Axes>"
      ]
     },
     "metadata": {
      "needs_background": "light"
     },
     "output_type": "display_data"
    },
    {
     "data": {
      "image/png": "[encoded data removed]",
      "text/plain": [
       "<Figure size 432x288 with 1 Axes>"
      ]
     },
     "metadata": {
      "needs_background": "light"
     },
     "output_type": "display_data"
    },
    {
     "data": {
      "image/png": "[encoded data removed]",
      "text/plain": [
       "<Figure size 432x288 with 1 Axes>"
      ]
     },
     "metadata": {
      "needs_background": "light"
     },
     "output_type": "display_data"
    },
    {
     "data": {
      "image/png": "[encoded data removed]",
      "text/plain": [
       "<Figure size 432x288 with 1 Axes>"
      ]
     },
     "metadata": {
      "needs_background": "light"
     },
     "output_type": "display_data"
    },
    {
     "data": {
      "image/png": "[encoded data removed]",
      "text/plain": [
       "<Figure size 432x288 with 1 Axes>"
      ]
     },
     "metadata": {
      "needs_background": "light"
     },
     "output_type": "display_data"
    },
    {
     "data": {
      "image/png": "[encoded data removed]",
      "text/plain": [
       "<Figure size 432x288 with 1 Axes>"
      ]
     },
     "metadata": {
      "needs_background": "light"
     },
     "output_type": "display_data"
    },
    {
     "data": {
      "image/png": "[encoded data removed]",
      "text/plain": [
       "<Figure size 432x288 with 1 Axes>"
      ]
     },
     "metadata": {
      "needs_background": "light"
     },
     "output_type": "display_data"
    },
    {
     "data": {
      "image/png": "[encoded data removed]",
      "text/plain": [
       "<Figure size 432x288 with 1 Axes>"
      ]
     },
     "metadata": {
      "needs_background": "light"
     },
     "output_type": "display_data"
    },
    {
     "data": {
      "image/png": "[encoded data removed]",
      "text/plain": [
       "<Figure size 432x288 with 1 Axes>"
      ]
     },
     "metadata": {
      "needs_background": "light"
     },
     "output_type": "display_data"
    },
    {
     "data": {
      "image/png": "[encoded data removed]",
      "text/plain": [
       "<Figure size 432x288 with 1 Axes>"
      ]
     },
     "metadata": {
      "needs_background": "light"
     },
     "output_type": "display_data"
    },
    {
     "data": {
      "image/png": "[encoded data removed]",
      "text/plain": [
       "<Figure size 432x288 with 1 Axes>"
      ]
     },
     "metadata": {
      "needs_background": "light"
     },
     "output_type": "display_data"
    },
    {
     "data": {
      "image/png": "[encoded data removed]",
      "text/plain": [
       "<Figure size 432x288 with 1 Axes>"
      ]
     },
     "metadata": {
      "needs_background": "light"
     },
     "output_type": "display_data"
    },
    {
     "data": {
      "image/png": "[encoded data removed]",
      "text/plain": [
       "<Figure size 432x288 with 1 Axes>"
      ]
     },
     "metadata": {
      "needs_background": "light"
     },
     "output_type": "display_data"
    },
    {
     "data": {
      "image/png": "[encoded data removed]",
      "text/plain": [
       "<Figure size 432x288 with 1 Axes>"
      ]
     },
     "metadata": {
      "needs_background": "light"
     },
     "output_type": "display_data"
    },
    {
     "data": {
      "image/png": "[encoded data removed]",
      "text/plain": [
       "<Figure size 432x288 with 1 Axes>"
      ]
     },
     "metadata": {
      "needs_background": "light"
     },
     "output_type": "display_data"
    },
    {
     "data": {
      "image/png": "[encoded data removed]",
      "text/plain": [
       "<Figure size 432x288 with 1 Axes>"
      ]
     },
     "metadata": {
      "needs_background": "light"
     },
     "output_type": "display_data"
    },
    {
     "data": {
      "image/png": "[encoded data removed]",
      "text/plain": [
       "<Figure size 432x288 with 1 Axes>"
      ]
     },
     "metadata": {
      "needs_background": "light"
     },
     "output_type": "display_data"
    },
    {
     "data": {
      "image/png": "[encoded data removed]",
      "text/plain": [
       "<Figure size 432x288 with 1 Axes>"
      ]
     },
     "metadata": {
      "needs_background": "light"
     },
     "output_type": "display_data"
    },
    {
     "data": {
      "image/png": "[encoded data removed]",
      "text/plain": [
       "<Figure size 432x288 with 1 Axes>"
      ]
     },
     "metadata": {
      "needs_background": "light"
     },
     "output_type": "display_data"
    },
    {
     "data": {
      "image/png": "[encoded data removed]",
      "text/plain": [
       "<Figure size 432x288 with 1 Axes>"
      ]
     },
     "metadata": {
      "needs_background": "light"
     },
     "output_type": "display_data"
    },
    {
     "data": {
      "image/png": "[encoded data removed]",
      "text/plain": [
       "<Figure size 432x288 with 1 Axes>"
      ]
     },
     "metadata": {
      "needs_background": "light"
     },
     "output_type": "display_data"
    },
    {
     "data": {
      "image/png": "[encoded data removed]",
      "text/plain": [
       "<Figure size 432x288 with 1 Axes>"
      ]
     },
     "metadata": {
      "needs_background": "light"
     },
     "output_type": "display_data"
    },
    {
     "data": {
      "image/png": "[encoded data removed]",
      "text/plain": [
       "<Figure size 432x288 with 1 Axes>"
      ]
     },
     "metadata": {
      "needs_background": "light"
     },
     "output_type": "display_data"
    }
   ],
   "source": [
    "color_knoxcounty = pd.read_csv(\"./Instagram/colors_knoxcounty.csv\", index_col = 0, converters={\"Color1\": ast.literal_eval,\n",
    "                                                                                                 \"Color2\": ast.literal_eval,\n",
    "                                                                                                 \"Color3\": ast.literal_eval,\n",
    "                                                                                                 \"Color4\": ast.literal_eval,\n",
    "                                                                                                 \"Color5\": ast.literal_eval,\n",
    "                                                                                                 \"HSL1\": ast.literal_eval,\n",
    "                                                                                                 \"HSL2\": ast.literal_eval,\n",
    "                                                                                                 \"HSL3\": ast.literal_eval,\n",
    "                                                                                                 \"HSL4\": ast.literal_eval,\n",
    "                                                                                                 \"HSL5\": ast.literal_eval})\n",
    "color_knoxcounty_plt = color_knoxcounty.loc[:, \"Color1\":\"HSL5\"]\n",
    "color_knoxcounty_plt\n",
    "\n",
    "for i in range(len(color_knoxcounty_plt)):\n",
    "    palette = list(color_knoxcounty_plt.loc[i, \"Color1\":\"Color5\"])\n",
    "    palette = np.array(palette)[np.newaxis, :, :]\n",
    "    plt.imshow(palette.astype(np.uint8));\n",
    "    plt.axis('off');\n",
    "    plt.show();"
   ]
  },
  {
   "cell_type": "code",
   "execution_count": 93,
   "metadata": {},
   "outputs": [
    {
     "data": {
      "image/png": "[encoded data removed]",
      "text/plain": [
       "<Figure size 432x288 with 1 Axes>"
      ]
     },
     "metadata": {
      "needs_background": "light"
     },
     "output_type": "display_data"
    },
    {
     "data": {
      "image/png": "[encoded data removed]",
      "text/plain": [
       "<Figure size 432x288 with 1 Axes>"
      ]
     },
     "metadata": {
      "needs_background": "light"
     },
     "output_type": "display_data"
    },
    {
     "data": {
      "image/png": "[encoded data removed]",
      "text/plain": [
       "<Figure size 432x288 with 1 Axes>"
      ]
     },
     "metadata": {
      "needs_background": "light"
     },
     "output_type": "display_data"
    },
    {
     "data": {
      "image/png": "[encoded data removed]",
      "text/plain": [
       "<Figure size 432x288 with 1 Axes>"
      ]
     },
     "metadata": {
      "needs_background": "light"
     },
     "output_type": "display_data"
    },
    {
     "data": {
      "image/png": "[encoded data removed]",
      "text/plain": [
       "<Figure size 432x288 with 1 Axes>"
      ]
     },
     "metadata": {
      "needs_background": "light"
     },
     "output_type": "display_data"
    },
    {
     "data": {
      "image/png": "[encoded data removed]",
      "text/plain": [
       "<Figure size 432x288 with 1 Axes>"
      ]
     },
     "metadata": {
      "needs_background": "light"
     },
     "output_type": "display_data"
    },
    {
     "data": {
      "image/png": "[encoded data removed]",
      "text/plain": [
       "<Figure size 432x288 with 1 Axes>"
      ]
     },
     "metadata": {
      "needs_background": "light"
     },
     "output_type": "display_data"
    },
    {
     "data": {
      "image/png": "[encoded data removed]",
      "text/plain": [
       "<Figure size 432x288 with 1 Axes>"
      ]
     },
     "metadata": {
      "needs_background": "light"
     },
     "output_type": "display_data"
    },
    {
     "data": {
      "image/png": "[encoded data removed]",
      "text/plain": [
       "<Figure size 432x288 with 1 Axes>"
      ]
     },
     "metadata": {
      "needs_background": "light"
     },
     "output_type": "display_data"
    },
    {
     "data": {
      "image/png": "[encoded data removed]",
      "text/plain": [
       "<Figure size 432x288 with 1 Axes>"
      ]
     },
     "metadata": {
      "needs_background": "light"
     },
     "output_type": "display_data"
    },
    {
     "data": {
      "image/png": "[encoded data removed]",
      "text/plain": [
       "<Figure size 432x288 with 1 Axes>"
      ]
     },
     "metadata": {
      "needs_background": "light"
     },
     "output_type": "display_data"
    },
    {
     "data": {
      "image/png": "[encoded data removed]",
      "text/plain": [
       "<Figure size 432x288 with 1 Axes>"
      ]
     },
     "metadata": {
      "needs_background": "light"
     },
     "output_type": "display_data"
    },
    {
     "data": {
      "image/png": "[encoded data removed]",
      "text/plain": [
       "<Figure size 432x288 with 1 Axes>"
      ]
     },
     "metadata": {
      "needs_background": "light"
     },
     "output_type": "display_data"
    },
    {
     "data": {
      "image/png": "[encoded data removed]",
      "text/plain": [
       "<Figure size 432x288 with 1 Axes>"
      ]
     },
     "metadata": {
      "needs_background": "light"
     },
     "output_type": "display_data"
    },
    {
     "data": {
      "image/png": "[encoded data removed]",
      "text/plain": [
       "<Figure size 432x288 with 1 Axes>"
      ]
     },
     "metadata": {
      "needs_background": "light"
     },
     "output_type": "display_data"
    },
    {
     "data": {
      "image/png": "[encoded data removed]",
      "text/plain": [
       "<Figure size 432x288 with 1 Axes>"
      ]
     },
     "metadata": {
      "needs_background": "light"
     },
     "output_type": "display_data"
    },
    {
     "data": {
      "image/png": "[encoded data removed]",
      "text/plain": [
       "<Figure size 432x288 with 1 Axes>"
      ]
     },
     "metadata": {
      "needs_background": "light"
     },
     "output_type": "display_data"
    },
    {
     "data": {
      "image/png": "[encoded data removed]",
      "text/plain": [
       "<Figure size 432x288 with 1 Axes>"
      ]
     },
     "metadata": {
      "needs_background": "light"
     },
     "output_type": "display_data"
    },
    {
     "data": {
      "image/png": "[encoded data removed]",
      "text/plain": [
       "<Figure size 432x288 with 1 Axes>"
      ]
     },
     "metadata": {
      "needs_background": "light"
     },
     "output_type": "display_data"
    },
    {
     "data": {
      "image/png": "[encoded data removed]",
      "text/plain": [
       "<Figure size 432x288 with 1 Axes>"
      ]
     },
     "metadata": {
      "needs_background": "light"
     },
     "output_type": "display_data"
    },
    {
     "data": {
      "image/png": "[encoded data removed]",
      "text/plain": [
       "<Figure size 432x288 with 1 Axes>"
      ]
     },
     "metadata": {
      "needs_background": "light"
     },
     "output_type": "display_data"
    },
    {
     "data": {
      "image/png": "[encoded data removed]",
      "text/plain": [
       "<Figure size 432x288 with 1 Axes>"
      ]
     },
     "metadata": {
      "needs_background": "light"
     },
     "output_type": "display_data"
    },
    {
     "data": {
      "image/png": "[encoded data removed]",
      "text/plain": [
       "<Figure size 432x288 with 1 Axes>"
      ]
     },
     "metadata": {
      "needs_background": "light"
     },
     "output_type": "display_data"
    },
    {
     "data": {
      "image/png": "[encoded data removed]",
      "text/plain": [
       "<Figure size 432x288 with 1 Axes>"
      ]
     },
     "metadata": {
      "needs_background": "light"
     },
     "output_type": "display_data"
    },
    {
     "data": {
      "image/png": "[encoded data removed]",
      "text/plain": [
       "<Figure size 432x288 with 1 Axes>"
      ]
     },
     "metadata": {
      "needs_background": "light"
     },
     "output_type": "display_data"
    },
    {
     "data": {
      "image/png": "[encoded data removed]",
      "text/plain": [
       "<Figure size 432x288 with 1 Axes>"
      ]
     },
     "metadata": {
      "needs_background": "light"
     },
     "output_type": "display_data"
    },
    {
     "data": {
      "image/png": "[encoded data removed]",
      "text/plain": [
       "<Figure size 432x288 with 1 Axes>"
      ]
     },
     "metadata": {
      "needs_background": "light"
     },
     "output_type": "display_data"
    },
    {
     "data": {
      "image/png": "[encoded data removed]",
      "text/plain": [
       "<Figure size 432x288 with 1 Axes>"
      ]
     },
     "metadata": {
      "needs_background": "light"
     },
     "output_type": "display_data"
    },
    {
     "data": {
      "image/png": "[encoded data removed]",
      "text/plain": [
       "<Figure size 432x288 with 1 Axes>"
      ]
     },
     "metadata": {
      "needs_background": "light"
     },
     "output_type": "display_data"
    },
    {
     "data": {
      "image/png": "[encoded data removed]",
      "text/plain": [
       "<Figure size 432x288 with 1 Axes>"
      ]
     },
     "metadata": {
      "needs_background": "light"
     },
     "output_type": "display_data"
    },
    {
     "data": {
      "image/png": "[encoded data removed]",
      "text/plain": [
       "<Figure size 432x288 with 1 Axes>"
      ]
     },
     "metadata": {
      "needs_background": "light"
     },
     "output_type": "display_data"
    },
    {
     "data": {
      "image/png": "[encoded data removed]",
      "text/plain": [
       "<Figure size 432x288 with 1 Axes>"
      ]
     },
     "metadata": {
      "needs_background": "light"
     },
     "output_type": "display_data"
    },
    {
     "data": {
      "image/png": "[encoded data removed]",
      "text/plain": [
       "<Figure size 432x288 with 1 Axes>"
      ]
     },
     "metadata": {
      "needs_background": "light"
     },
     "output_type": "display_data"
    },
    {
     "data": {
      "image/png": "[encoded data removed]",
      "text/plain": [
       "<Figure size 432x288 with 1 Axes>"
      ]
     },
     "metadata": {
      "needs_background": "light"
     },
     "output_type": "display_data"
    },
    {
     "data": {
      "image/png": "[encoded data removed]",
      "text/plain": [
       "<Figure size 432x288 with 1 Axes>"
      ]
     },
     "metadata": {
      "needs_background": "light"
     },
     "output_type": "display_data"
    },
    {
     "data": {
      "image/png": "[encoded data removed]",
      "text/plain": [
       "<Figure size 432x288 with 1 Axes>"
      ]
     },
     "metadata": {
      "needs_background": "light"
     },
     "output_type": "display_data"
    },
    {
     "data": {
      "image/png": "[encoded data removed]",
      "text/plain": [
       "<Figure size 432x288 with 1 Axes>"
      ]
     },
     "metadata": {
      "needs_background": "light"
     },
     "output_type": "display_data"
    },
    {
     "data": {
      "image/png": "[encoded data removed]",
      "text/plain": [
       "<Figure size 432x288 with 1 Axes>"
      ]
     },
     "metadata": {
      "needs_background": "light"
     },
     "output_type": "display_data"
    },
    {
     "data": {
      "image/png": "[encoded data removed]",
      "text/plain": [
       "<Figure size 432x288 with 1 Axes>"
      ]
     },
     "metadata": {
      "needs_background": "light"
     },
     "output_type": "display_data"
    },
    {
     "data": {
      "image/png": "[encoded data removed]",
      "text/plain": [
       "<Figure size 432x288 with 1 Axes>"
      ]
     },
     "metadata": {
      "needs_background": "light"
     },
     "output_type": "display_data"
    },
    {
     "data": {
      "image/png": "[encoded data removed]",
      "text/plain": [
       "<Figure size 432x288 with 1 Axes>"
      ]
     },
     "metadata": {
      "needs_background": "light"
     },
     "output_type": "display_data"
    },
    {
     "data": {
      "image/png": "[encoded data removed]",
      "text/plain": [
       "<Figure size 432x288 with 1 Axes>"
      ]
     },
     "metadata": {
      "needs_background": "light"
     },
     "output_type": "display_data"
    },
    {
     "data": {
      "image/png": "[encoded data removed]",
      "text/plain": [
       "<Figure size 432x288 with 1 Axes>"
      ]
     },
     "metadata": {
      "needs_background": "light"
     },
     "output_type": "display_data"
    },
    {
     "data": {
      "image/png": "[encoded data removed]",
      "text/plain": [
       "<Figure size 432x288 with 1 Axes>"
      ]
     },
     "metadata": {
      "needs_background": "light"
     },
     "output_type": "display_data"
    },
    {
     "data": {
      "image/png": "[encoded data removed]",
      "text/plain": [
       "<Figure size 432x288 with 1 Axes>"
      ]
     },
     "metadata": {
      "needs_background": "light"
     },
     "output_type": "display_data"
    },
    {
     "data": {
      "image/png": "[encoded data removed]",
      "text/plain": [
       "<Figure size 432x288 with 1 Axes>"
      ]
     },
     "metadata": {
      "needs_background": "light"
     },
     "output_type": "display_data"
    },
    {
     "data": {
      "image/png": "[encoded data removed]",
      "text/plain": [
       "<Figure size 432x288 with 1 Axes>"
      ]
     },
     "metadata": {
      "needs_background": "light"
     },
     "output_type": "display_data"
    },
    {
     "data": {
      "image/png": "[encoded data removed]",
      "text/plain": [
       "<Figure size 432x288 with 1 Axes>"
      ]
     },
     "metadata": {
      "needs_background": "light"
     },
     "output_type": "display_data"
    },
    {
     "data": {
      "image/png": "[encoded data removed]",
      "text/plain": [
       "<Figure size 432x288 with 1 Axes>"
      ]
     },
     "metadata": {
      "needs_background": "light"
     },
     "output_type": "display_data"
    },
    {
     "data": {
      "image/png": "[encoded data removed]",
      "text/plain": [
       "<Figure size 432x288 with 1 Axes>"
      ]
     },
     "metadata": {
      "needs_background": "light"
     },
     "output_type": "display_data"
    },
    {
     "data": {
      "image/png": "[encoded data removed]",
      "text/plain": [
       "<Figure size 432x288 with 1 Axes>"
      ]
     },
     "metadata": {
      "needs_background": "light"
     },
     "output_type": "display_data"
    },
    {
     "data": {
      "image/png": "[encoded data removed]",
      "text/plain": [
       "<Figure size 432x288 with 1 Axes>"
      ]
     },
     "metadata": {
      "needs_background": "light"
     },
     "output_type": "display_data"
    },
    {
     "data": {
      "image/png": "[encoded data removed]",
      "text/plain": [
       "<Figure size 432x288 with 1 Axes>"
      ]
     },
     "metadata": {
      "needs_background": "light"
     },
     "output_type": "display_data"
    },
    {
     "data": {
      "image/png": "[encoded data removed]",
      "text/plain": [
       "<Figure size 432x288 with 1 Axes>"
      ]
     },
     "metadata": {
      "needs_background": "light"
     },
     "output_type": "display_data"
    },
    {
     "data": {
      "image/png": "[encoded data removed]",
      "text/plain": [
       "<Figure size 432x288 with 1 Axes>"
      ]
     },
     "metadata": {
      "needs_background": "light"
     },
     "output_type": "display_data"
    },
    {
     "data": {
      "image/png": "[encoded data removed]",
      "text/plain": [
       "<Figure size 432x288 with 1 Axes>"
      ]
     },
     "metadata": {
      "needs_background": "light"
     },
     "output_type": "display_data"
    },
    {
     "data": {
      "image/png": "[encoded data removed]",
      "text/plain": [
       "<Figure size 432x288 with 1 Axes>"
      ]
     },
     "metadata": {
      "needs_background": "light"
     },
     "output_type": "display_data"
    },
    {
     "data": {
      "image/png": "[encoded data removed]",
      "text/plain": [
       "<Figure size 432x288 with 1 Axes>"
      ]
     },
     "metadata": {
      "needs_background": "light"
     },
     "output_type": "display_data"
    },
    {
     "data": {
      "image/png": "[encoded data removed]",
      "text/plain": [
       "<Figure size 432x288 with 1 Axes>"
      ]
     },
     "metadata": {
      "needs_background": "light"
     },
     "output_type": "display_data"
    },
    {
     "data": {
      "image/png": "[encoded data removed]",
      "text/plain": [
       "<Figure size 432x288 with 1 Axes>"
      ]
     },
     "metadata": {
      "needs_background": "light"
     },
     "output_type": "display_data"
    }
   ],
   "source": [
    "color_utknoxville = pd.read_csv(\"./Instagram/colors_utknoxville.csv\", index_col = 0, converters={\"Color1\": ast.literal_eval,\n",
    "                                                                                                 \"Color2\": ast.literal_eval,\n",
    "                                                                                                 \"Color3\": ast.literal_eval,\n",
    "                                                                                                 \"Color4\": ast.literal_eval,\n",
    "                                                                                                 \"Color5\": ast.literal_eval,\n",
    "                                                                                                 \"HSL1\": ast.literal_eval,\n",
    "                                                                                                 \"HSL2\": ast.literal_eval,\n",
    "                                                                                                 \"HSL3\": ast.literal_eval,\n",
    "                                                                                                 \"HSL4\": ast.literal_eval,\n",
    "                                                                                                 \"HSL5\": ast.literal_eval})\n",
    "color_utknoxville_plt = color_utknoxville.loc[:, \"Color1\":\"HSL5\"]\n",
    "color_utknoxville_plt\n",
    "\n",
    "for i in range(len(color_utknoxville_plt)):\n",
    "    palette = list(color_utknoxville_plt.loc[i, \"Color1\":\"Color5\"])\n",
    "    palette = np.array(palette)[np.newaxis, :, :]\n",
    "    plt.imshow(palette.astype(np.uint8));\n",
    "    plt.axis('off');\n",
    "    plt.show();"
   ]
  },
  {
   "cell_type": "code",
   "execution_count": 64,
   "metadata": {},
   "outputs": [
    {
     "ename": "KeyboardInterrupt",
     "evalue": "",
     "output_type": "error",
     "traceback": [
      "\u001b[1;31m---------------------------------------------------------------------------\u001b[0m",
      "\u001b[1;31mKeyboardInterrupt\u001b[0m                         Traceback (most recent call last)",
      "\u001b[1;32m<ipython-input-64-57026eef684d>\u001b[0m in \u001b[0;36m<module>\u001b[1;34m\u001b[0m\n\u001b[0;32m      6\u001b[0m     \u001b[1;32mfor\u001b[0m \u001b[0mpath\u001b[0m \u001b[1;32min\u001b[0m \u001b[0mpathlist\u001b[0m\u001b[1;33m:\u001b[0m\u001b[1;33m\u001b[0m\u001b[1;33m\u001b[0m\u001b[0m\n\u001b[0;32m      7\u001b[0m         \u001b[0mcolor_thief\u001b[0m \u001b[1;33m=\u001b[0m \u001b[0mColorThief\u001b[0m\u001b[1;33m(\u001b[0m\u001b[0mpath\u001b[0m\u001b[1;33m)\u001b[0m\u001b[1;33m\u001b[0m\u001b[1;33m\u001b[0m\u001b[0m\n\u001b[1;32m----> 8\u001b[1;33m         \u001b[0mpalette\u001b[0m \u001b[1;33m=\u001b[0m \u001b[0mcolor_thief\u001b[0m\u001b[1;33m.\u001b[0m\u001b[0mget_palette\u001b[0m\u001b[1;33m(\u001b[0m\u001b[0mcolor_count\u001b[0m\u001b[1;33m=\u001b[0m\u001b[1;36m5\u001b[0m\u001b[1;33m,\u001b[0m \u001b[0mquality\u001b[0m\u001b[1;33m=\u001b[0m\u001b[1;36m1\u001b[0m\u001b[1;33m)\u001b[0m\u001b[1;33m\u001b[0m\u001b[1;33m\u001b[0m\u001b[0m\n\u001b[0m\u001b[0;32m      9\u001b[0m         \u001b[0mcolor_Holder\u001b[0m \u001b[1;33m=\u001b[0m \u001b[0mcolor_Holder\u001b[0m\u001b[1;33m.\u001b[0m\u001b[0mappend\u001b[0m\u001b[1;33m(\u001b[0m\u001b[0mpd\u001b[0m\u001b[1;33m.\u001b[0m\u001b[0mSeries\u001b[0m\u001b[1;33m(\u001b[0m\u001b[1;33m[\u001b[0m\u001b[0mstr\u001b[0m\u001b[1;33m(\u001b[0m\u001b[0mpath\u001b[0m\u001b[1;33m)\u001b[0m\u001b[1;33m,\u001b[0m \u001b[0mpalette\u001b[0m\u001b[1;33m[\u001b[0m\u001b[1;36m0\u001b[0m\u001b[1;33m]\u001b[0m\u001b[1;33m,\u001b[0m \u001b[0mpalette\u001b[0m\u001b[1;33m[\u001b[0m\u001b[1;36m1\u001b[0m\u001b[1;33m]\u001b[0m\u001b[1;33m,\u001b[0m \u001b[0mpalette\u001b[0m\u001b[1;33m[\u001b[0m\u001b[1;36m2\u001b[0m\u001b[1;33m]\u001b[0m\u001b[1;33m,\u001b[0m \u001b[0mpalette\u001b[0m\u001b[1;33m[\u001b[0m\u001b[1;36m3\u001b[0m\u001b[1;33m]\u001b[0m\u001b[1;33m,\u001b[0m \u001b[0mpalette\u001b[0m\u001b[1;33m[\u001b[0m\u001b[1;36m4\u001b[0m\u001b[1;33m]\u001b[0m\u001b[1;33m]\u001b[0m\u001b[1;33m,\u001b[0m \u001b[0mindex\u001b[0m\u001b[1;33m=\u001b[0m\u001b[0mcolor_Holder\u001b[0m\u001b[1;33m.\u001b[0m\u001b[0mcolumns\u001b[0m\u001b[1;33m)\u001b[0m\u001b[1;33m,\u001b[0m \u001b[0mignore_index\u001b[0m \u001b[1;33m=\u001b[0m \u001b[1;32mTrue\u001b[0m\u001b[1;33m)\u001b[0m\u001b[1;33m\u001b[0m\u001b[1;33m\u001b[0m\u001b[0m\n\u001b[0;32m     10\u001b[0m \u001b[1;33m\u001b[0m\u001b[0m\n",
      "\u001b[1;32m~\\Anaconda3\\envs\\Instagram\\lib\\site-packages\\colorthief.py\u001b[0m in \u001b[0;36mget_palette\u001b[1;34m(self, color_count, quality)\u001b[0m\n\u001b[0;32m     75\u001b[0m         \u001b[1;31m# Send array to quantize function which clusters values\u001b[0m\u001b[1;33m\u001b[0m\u001b[1;33m\u001b[0m\u001b[1;33m\u001b[0m\u001b[0m\n\u001b[0;32m     76\u001b[0m         \u001b[1;31m# using median cut algorithm\u001b[0m\u001b[1;33m\u001b[0m\u001b[1;33m\u001b[0m\u001b[1;33m\u001b[0m\u001b[0m\n\u001b[1;32m---> 77\u001b[1;33m         \u001b[0mcmap\u001b[0m \u001b[1;33m=\u001b[0m \u001b[0mMMCQ\u001b[0m\u001b[1;33m.\u001b[0m\u001b[0mquantize\u001b[0m\u001b[1;33m(\u001b[0m\u001b[0mvalid_pixels\u001b[0m\u001b[1;33m,\u001b[0m \u001b[0mcolor_count\u001b[0m\u001b[1;33m)\u001b[0m\u001b[1;33m\u001b[0m\u001b[1;33m\u001b[0m\u001b[0m\n\u001b[0m\u001b[0;32m     78\u001b[0m         \u001b[1;32mreturn\u001b[0m \u001b[0mcmap\u001b[0m\u001b[1;33m.\u001b[0m\u001b[0mpalette\u001b[0m\u001b[1;33m\u001b[0m\u001b[1;33m\u001b[0m\u001b[0m\n\u001b[0;32m     79\u001b[0m \u001b[1;33m\u001b[0m\u001b[0m\n",
      "\u001b[1;32m~\\Anaconda3\\envs\\Instagram\\lib\\site-packages\\colorthief.py\u001b[0m in \u001b[0;36mquantize\u001b[1;34m(pixels, max_color)\u001b[0m\n\u001b[0;32m    226\u001b[0m \u001b[1;33m\u001b[0m\u001b[0m\n\u001b[0;32m    227\u001b[0m         \u001b[1;31m# get the beginning vbox from the colors\u001b[0m\u001b[1;33m\u001b[0m\u001b[1;33m\u001b[0m\u001b[1;33m\u001b[0m\u001b[0m\n\u001b[1;32m--> 228\u001b[1;33m         \u001b[0mvbox\u001b[0m \u001b[1;33m=\u001b[0m \u001b[0mMMCQ\u001b[0m\u001b[1;33m.\u001b[0m\u001b[0mvbox_from_pixels\u001b[0m\u001b[1;33m(\u001b[0m\u001b[0mpixels\u001b[0m\u001b[1;33m,\u001b[0m \u001b[0mhisto\u001b[0m\u001b[1;33m)\u001b[0m\u001b[1;33m\u001b[0m\u001b[1;33m\u001b[0m\u001b[0m\n\u001b[0m\u001b[0;32m    229\u001b[0m         \u001b[0mpq\u001b[0m \u001b[1;33m=\u001b[0m \u001b[0mPQueue\u001b[0m\u001b[1;33m(\u001b[0m\u001b[1;32mlambda\u001b[0m \u001b[0mx\u001b[0m\u001b[1;33m:\u001b[0m \u001b[0mx\u001b[0m\u001b[1;33m.\u001b[0m\u001b[0mcount\u001b[0m\u001b[1;33m)\u001b[0m\u001b[1;33m\u001b[0m\u001b[1;33m\u001b[0m\u001b[0m\n\u001b[0;32m    230\u001b[0m         \u001b[0mpq\u001b[0m\u001b[1;33m.\u001b[0m\u001b[0mpush\u001b[0m\u001b[1;33m(\u001b[0m\u001b[0mvbox\u001b[0m\u001b[1;33m)\u001b[0m\u001b[1;33m\u001b[0m\u001b[1;33m\u001b[0m\u001b[0m\n",
      "\u001b[1;32m~\\Anaconda3\\envs\\Instagram\\lib\\site-packages\\colorthief.py\u001b[0m in \u001b[0;36mvbox_from_pixels\u001b[1;34m(pixels, histo)\u001b[0m\n\u001b[0;32m    121\u001b[0m             \u001b[0mrmin\u001b[0m \u001b[1;33m=\u001b[0m \u001b[0mmin\u001b[0m\u001b[1;33m(\u001b[0m\u001b[0mrval\u001b[0m\u001b[1;33m,\u001b[0m \u001b[0mrmin\u001b[0m\u001b[1;33m)\u001b[0m\u001b[1;33m\u001b[0m\u001b[1;33m\u001b[0m\u001b[0m\n\u001b[0;32m    122\u001b[0m             \u001b[0mrmax\u001b[0m \u001b[1;33m=\u001b[0m \u001b[0mmax\u001b[0m\u001b[1;33m(\u001b[0m\u001b[0mrval\u001b[0m\u001b[1;33m,\u001b[0m \u001b[0mrmax\u001b[0m\u001b[1;33m)\u001b[0m\u001b[1;33m\u001b[0m\u001b[1;33m\u001b[0m\u001b[0m\n\u001b[1;32m--> 123\u001b[1;33m             \u001b[0mgmin\u001b[0m \u001b[1;33m=\u001b[0m \u001b[0mmin\u001b[0m\u001b[1;33m(\u001b[0m\u001b[0mgval\u001b[0m\u001b[1;33m,\u001b[0m \u001b[0mgmin\u001b[0m\u001b[1;33m)\u001b[0m\u001b[1;33m\u001b[0m\u001b[1;33m\u001b[0m\u001b[0m\n\u001b[0m\u001b[0;32m    124\u001b[0m             \u001b[0mgmax\u001b[0m \u001b[1;33m=\u001b[0m \u001b[0mmax\u001b[0m\u001b[1;33m(\u001b[0m\u001b[0mgval\u001b[0m\u001b[1;33m,\u001b[0m \u001b[0mgmax\u001b[0m\u001b[1;33m)\u001b[0m\u001b[1;33m\u001b[0m\u001b[1;33m\u001b[0m\u001b[0m\n\u001b[0;32m    125\u001b[0m             \u001b[0mbmin\u001b[0m \u001b[1;33m=\u001b[0m \u001b[0mmin\u001b[0m\u001b[1;33m(\u001b[0m\u001b[0mbval\u001b[0m\u001b[1;33m,\u001b[0m \u001b[0mbmin\u001b[0m\u001b[1;33m)\u001b[0m\u001b[1;33m\u001b[0m\u001b[1;33m\u001b[0m\u001b[0m\n",
      "\u001b[1;31mKeyboardInterrupt\u001b[0m: "
     ]
    }
   ],
   "source": [
    "# COLOR-THIEF\n",
    "\n",
    "for i in range(len(filenames)):\n",
    "    # Retrieve all paths of jpegs in a directory\n",
    "    pathlist = Path(\"./Instagram/{}\".format(filenames[i])).glob('**/*.jpg')\n",
    "    \n",
    "    # Extract a color palette for each image\n",
    "    for path in pathlist:\n",
    "        color_thief = ColorThief(path)\n",
    "        palette = color_thief.get_palette(color_count=5, quality=1)\n",
    "        color_Holder = color_Holder.append(pd.Series([str(path), palette[0], palette[1], palette[2], palette[3], palette[4]], index=color_Holder.columns), ignore_index = True)\n",
    "    \n",
    "    color_Holder.to_csv(\"./Instagram/colors_{}.csv\".format(filenames[i]))\n",
    "    color_Holder = pd.DataFrame(columns = [\"Image\", \"Color1\", \"Color2\", \"Color3\", \"Color4\", \"Color5\"])\n",
    "#    color_Average = color_Average.append(pd.Series([\n",
    "#                                                    \"{}\".format(communities[i]),\n",
    "#                                                    tuple(map(np.median, zip(*color_Holder[\"Color1\"]))),\n",
    "#                                                    tuple(map(np.median, zip(*color_Holder[\"Color2\"]))),\n",
    "#                                                    tuple(map(np.median, zip(*color_Holder[\"Color3\"])))],\n",
    "#                                                    index = color_Average.columns),\n",
    "#                                                    ignore_index = True)\n",
    "#    \n",
    "#    color_Average.to_csv(\"./Instagram/color_Median.csv\")"
   ]
  },
  {
   "cell_type": "code",
   "execution_count": 115,
   "metadata": {},
   "outputs": [
    {
     "data": {
      "text/html": [
       "<div>\n",
       "<style scoped>\n",
       "    .dataframe tbody tr th:only-of-type {\n",
       "        vertical-align: middle;\n",
       "    }\n",
       "\n",
       "    .dataframe tbody tr th {\n",
       "        vertical-align: top;\n",
       "    }\n",
       "\n",
       "    .dataframe thead th {\n",
       "        text-align: right;\n",
       "    }\n",
       "</style>\n",
       "<table border=\"1\" class=\"dataframe\">\n",
       "  <thead>\n",
       "    <tr style=\"text-align: right;\">\n",
       "      <th></th>\n",
       "      <th>Color1</th>\n",
       "      <th>Color2</th>\n",
       "      <th>Color3</th>\n",
       "      <th>Color4</th>\n",
       "      <th>Color5</th>\n",
       "      <th>Color6</th>\n",
       "      <th>Color7</th>\n",
       "      <th>Color8</th>\n",
       "      <th>Color9</th>\n",
       "    </tr>\n",
       "  </thead>\n",
       "  <tbody>\n",
       "    <tr>\n",
       "      <th>0</th>\n",
       "      <td>(145.3448275862069, 125.15517241379311, 112.63...</td>\n",
       "      <td>(123.32758620689656, 109.65517241379311, 99.32...</td>\n",
       "      <td>(135.05172413793105, 110.72413793103448, 98.68...</td>\n",
       "      <td>(141.8793103448276, 119.75862068965517, 106.82...</td>\n",
       "      <td>(144.27586206896552, 121.05172413793103, 106.0...</td>\n",
       "      <td>(149.44827586206895, 137.22413793103448, 124.8...</td>\n",
       "      <td>(134.39655172413794, 110.77586206896552, 99.81...</td>\n",
       "      <td>(140.58620689655172, 112.10344827586206, 97.56...</td>\n",
       "      <td>(121.96551724137932, 118.72413793103448, 125.2...</td>\n",
       "    </tr>\n",
       "    <tr>\n",
       "      <th>1</th>\n",
       "      <td>(148.50666666666666, 129.08666666666667, 110.86)</td>\n",
       "      <td>(122.82666666666667, 108.9, 94.73333333333333)</td>\n",
       "      <td>(138.15333333333334, 118.56, 105.55333333333333)</td>\n",
       "      <td>(141.56, 123.35333333333334, 112.87333333333333)</td>\n",
       "      <td>(143.06, 127.37333333333333, 115.62)</td>\n",
       "      <td>(141.30666666666667, 130.02666666666667, 119.6...</td>\n",
       "      <td>(136.14, 120.94666666666667, 113.71333333333334)</td>\n",
       "      <td>(141.14666666666668, 121.26, 115.28)</td>\n",
       "      <td>(122.5, 110.36, 110.82)</td>\n",
       "    </tr>\n",
       "    <tr>\n",
       "      <th>2</th>\n",
       "      <td>(152.30875576036865, 134.9815668202765, 119.00...</td>\n",
       "      <td>(116.40552995391705, 103.82027649769586, 91.78...</td>\n",
       "      <td>(138.08294930875576, 121.72350230414746, 110.0...</td>\n",
       "      <td>(138.34101382488478, 123.61751152073732, 112.4...</td>\n",
       "      <td>(140.46543778801842, 125.23963133640552, 114.5...</td>\n",
       "      <td>(136.32258064516128, 125.13824884792626, 115.0...</td>\n",
       "      <td>(132.1336405529954, 120.25806451612904, 113.97...</td>\n",
       "      <td>(136.41935483870967, 120.50691244239631, 115.4...</td>\n",
       "      <td>(124.8110599078341, 112.58064516129032, 108.54...</td>\n",
       "    </tr>\n",
       "    <tr>\n",
       "      <th>3</th>\n",
       "      <td>(149.45578231292518, 132.58503401360545, 117.4...</td>\n",
       "      <td>(120.13945578231292, 106.43537414965986, 94.35...</td>\n",
       "      <td>(135.4421768707483, 118.6360544217687, 106.258...</td>\n",
       "      <td>(138.06462585034015, 120.85714285714286, 107.2...</td>\n",
       "      <td>(137.56462585034015, 122.19047619047619, 110.1...</td>\n",
       "      <td>(136.91156462585033, 124.93197278911565, 114.2...</td>\n",
       "      <td>(136.35714285714286, 122.9625850340136, 114.97...</td>\n",
       "      <td>(137.14625850340136, 122.85034013605443, 116.9...</td>\n",
       "      <td>(123.12925170068027, 117.19047619047619, 113.5...</td>\n",
       "    </tr>\n",
       "    <tr>\n",
       "      <th>4</th>\n",
       "      <td>(149.23243243243243, 132.87297297297297, 118.6...</td>\n",
       "      <td>(116.14864864864865, 102.53513513513514, 91.15...</td>\n",
       "      <td>(137.68648648648647, 117.76216216216216, 105.4...</td>\n",
       "      <td>(139.98108108108107, 121.15135135135135, 107.8...</td>\n",
       "      <td>(137.15675675675675, 122.14864864864865, 110.1...</td>\n",
       "      <td>(137.4027027027027, 125.19189189189188, 114.78...</td>\n",
       "      <td>(136.87567567567567, 123.3, 114.97027027027028)</td>\n",
       "      <td>(137.47027027027028, 124.49459459459459, 119.5...</td>\n",
       "      <td>(124.31351351351351, 118.08648648648649, 113.4...</td>\n",
       "    </tr>\n",
       "    <tr>\n",
       "      <th>5</th>\n",
       "      <td>(146.69882352941175, 132.46117647058824, 119.6...</td>\n",
       "      <td>(117.34117647058824, 105.57176470588236, 95.56...</td>\n",
       "      <td>(132.75058823529412, 115.59294117647059, 103.7...</td>\n",
       "      <td>(138.69882352941175, 122.17411764705882, 109.8...</td>\n",
       "      <td>(133.8235294117647, 121.17411764705882, 110.28...</td>\n",
       "      <td>(137.3435294117647, 126.60235294117648, 116.48...</td>\n",
       "      <td>(135.9764705882353, 124.00941176470589, 115.52...</td>\n",
       "      <td>(135.04235294117646, 124.6470588235294, 119.59...</td>\n",
       "      <td>(124.66588235294118, 118.38823529411765, 112.3...</td>\n",
       "    </tr>\n",
       "    <tr>\n",
       "      <th>6</th>\n",
       "      <td>(149.97029702970298, 134.94653465346533, 121.9...</td>\n",
       "      <td>(114.45148514851485, 104.13465346534653, 93.49...</td>\n",
       "      <td>(131.84158415841586, 115.17029702970297, 103.4...</td>\n",
       "      <td>(138.22772277227722, 121.99009900990099, 109.3...</td>\n",
       "      <td>(133.55643564356436, 122.03366336633664, 110.9...</td>\n",
       "      <td>(137.02178217821782, 126.48514851485149, 116.2...</td>\n",
       "      <td>(134.51881188118813, 122.74257425742574, 114.1...</td>\n",
       "      <td>(135.67524752475248, 124.51881188118811, 119.3...</td>\n",
       "      <td>(126.46930693069307, 118.02376237623763, 110.3...</td>\n",
       "    </tr>\n",
       "    <tr>\n",
       "      <th>7</th>\n",
       "      <td>(148.38754325259515, 133.13667820069205, 119.8...</td>\n",
       "      <td>(115.96885813148789, 105.33910034602076, 94.41...</td>\n",
       "      <td>(134.11245674740485, 116.31487889273356, 103.5...</td>\n",
       "      <td>(138.76989619377161, 121.94290657439447, 108.1...</td>\n",
       "      <td>(135.35640138408306, 123.5795847750865, 111.22...</td>\n",
       "      <td>(136.49134948096886, 125.30622837370242, 114.1...</td>\n",
       "      <td>(136.30622837370242, 123.13148788927336, 113.7...</td>\n",
       "      <td>(137.36332179930795, 125.17474048442907, 119.1...</td>\n",
       "      <td>(124.63148788927336, 118.56920415224913, 110.4...</td>\n",
       "    </tr>\n",
       "    <tr>\n",
       "      <th>8</th>\n",
       "      <td>(146.9088, 131.4192, 118.4864)</td>\n",
       "      <td>(115.9344, 105.9184, 95.8672)</td>\n",
       "      <td>(134.1168, 116.8976, 104.6192)</td>\n",
       "      <td>(138.0704, 122.1744, 109.432)</td>\n",
       "      <td>(134.3968, 122.8832, 111.4688)</td>\n",
       "      <td>(136.3648, 125.0608, 114.1744)</td>\n",
       "      <td>(134.952, 122.5168, 113.5568)</td>\n",
       "      <td>(136.3296, 124.744, 119.0896)</td>\n",
       "      <td>(124.936, 118.4464, 110.9904)</td>\n",
       "    </tr>\n",
       "    <tr>\n",
       "      <th>9</th>\n",
       "      <td>(145.94143484626647, 131.29282576866765, 118.6...</td>\n",
       "      <td>(116.76281112737921, 107.24011713030747, 97.67...</td>\n",
       "      <td>(132.97071742313324, 116.68814055636896, 104.7...</td>\n",
       "      <td>(137.68081991215226, 123.40702781844803, 111.1...</td>\n",
       "      <td>(133.10102489019033, 123.0117130307467, 112.18...</td>\n",
       "      <td>(135.69985358711565, 125.45387994143485, 115.0...</td>\n",
       "      <td>(134.20497803806734, 122.2723279648609, 113.88...</td>\n",
       "      <td>(135.53001464128843, 124.55051244509517, 119.5...</td>\n",
       "      <td>(125.51390922401171, 118.61639824304538, 111.4...</td>\n",
       "    </tr>\n",
       "  </tbody>\n",
       "</table>\n",
       "</div>"
      ],
      "text/plain": [
       "                                              Color1  \\\n",
       "0  (145.3448275862069, 125.15517241379311, 112.63...   \n",
       "1   (148.50666666666666, 129.08666666666667, 110.86)   \n",
       "2  (152.30875576036865, 134.9815668202765, 119.00...   \n",
       "3  (149.45578231292518, 132.58503401360545, 117.4...   \n",
       "4  (149.23243243243243, 132.87297297297297, 118.6...   \n",
       "5  (146.69882352941175, 132.46117647058824, 119.6...   \n",
       "6  (149.97029702970298, 134.94653465346533, 121.9...   \n",
       "7  (148.38754325259515, 133.13667820069205, 119.8...   \n",
       "8                     (146.9088, 131.4192, 118.4864)   \n",
       "9  (145.94143484626647, 131.29282576866765, 118.6...   \n",
       "\n",
       "                                              Color2  \\\n",
       "0  (123.32758620689656, 109.65517241379311, 99.32...   \n",
       "1     (122.82666666666667, 108.9, 94.73333333333333)   \n",
       "2  (116.40552995391705, 103.82027649769586, 91.78...   \n",
       "3  (120.13945578231292, 106.43537414965986, 94.35...   \n",
       "4  (116.14864864864865, 102.53513513513514, 91.15...   \n",
       "5  (117.34117647058824, 105.57176470588236, 95.56...   \n",
       "6  (114.45148514851485, 104.13465346534653, 93.49...   \n",
       "7  (115.96885813148789, 105.33910034602076, 94.41...   \n",
       "8                      (115.9344, 105.9184, 95.8672)   \n",
       "9  (116.76281112737921, 107.24011713030747, 97.67...   \n",
       "\n",
       "                                              Color3  \\\n",
       "0  (135.05172413793105, 110.72413793103448, 98.68...   \n",
       "1   (138.15333333333334, 118.56, 105.55333333333333)   \n",
       "2  (138.08294930875576, 121.72350230414746, 110.0...   \n",
       "3  (135.4421768707483, 118.6360544217687, 106.258...   \n",
       "4  (137.68648648648647, 117.76216216216216, 105.4...   \n",
       "5  (132.75058823529412, 115.59294117647059, 103.7...   \n",
       "6  (131.84158415841586, 115.17029702970297, 103.4...   \n",
       "7  (134.11245674740485, 116.31487889273356, 103.5...   \n",
       "8                     (134.1168, 116.8976, 104.6192)   \n",
       "9  (132.97071742313324, 116.68814055636896, 104.7...   \n",
       "\n",
       "                                              Color4  \\\n",
       "0  (141.8793103448276, 119.75862068965517, 106.82...   \n",
       "1   (141.56, 123.35333333333334, 112.87333333333333)   \n",
       "2  (138.34101382488478, 123.61751152073732, 112.4...   \n",
       "3  (138.06462585034015, 120.85714285714286, 107.2...   \n",
       "4  (139.98108108108107, 121.15135135135135, 107.8...   \n",
       "5  (138.69882352941175, 122.17411764705882, 109.8...   \n",
       "6  (138.22772277227722, 121.99009900990099, 109.3...   \n",
       "7  (138.76989619377161, 121.94290657439447, 108.1...   \n",
       "8                      (138.0704, 122.1744, 109.432)   \n",
       "9  (137.68081991215226, 123.40702781844803, 111.1...   \n",
       "\n",
       "                                              Color5  \\\n",
       "0  (144.27586206896552, 121.05172413793103, 106.0...   \n",
       "1               (143.06, 127.37333333333333, 115.62)   \n",
       "2  (140.46543778801842, 125.23963133640552, 114.5...   \n",
       "3  (137.56462585034015, 122.19047619047619, 110.1...   \n",
       "4  (137.15675675675675, 122.14864864864865, 110.1...   \n",
       "5  (133.8235294117647, 121.17411764705882, 110.28...   \n",
       "6  (133.55643564356436, 122.03366336633664, 110.9...   \n",
       "7  (135.35640138408306, 123.5795847750865, 111.22...   \n",
       "8                     (134.3968, 122.8832, 111.4688)   \n",
       "9  (133.10102489019033, 123.0117130307467, 112.18...   \n",
       "\n",
       "                                              Color6  \\\n",
       "0  (149.44827586206895, 137.22413793103448, 124.8...   \n",
       "1  (141.30666666666667, 130.02666666666667, 119.6...   \n",
       "2  (136.32258064516128, 125.13824884792626, 115.0...   \n",
       "3  (136.91156462585033, 124.93197278911565, 114.2...   \n",
       "4  (137.4027027027027, 125.19189189189188, 114.78...   \n",
       "5  (137.3435294117647, 126.60235294117648, 116.48...   \n",
       "6  (137.02178217821782, 126.48514851485149, 116.2...   \n",
       "7  (136.49134948096886, 125.30622837370242, 114.1...   \n",
       "8                     (136.3648, 125.0608, 114.1744)   \n",
       "9  (135.69985358711565, 125.45387994143485, 115.0...   \n",
       "\n",
       "                                              Color7  \\\n",
       "0  (134.39655172413794, 110.77586206896552, 99.81...   \n",
       "1   (136.14, 120.94666666666667, 113.71333333333334)   \n",
       "2  (132.1336405529954, 120.25806451612904, 113.97...   \n",
       "3  (136.35714285714286, 122.9625850340136, 114.97...   \n",
       "4    (136.87567567567567, 123.3, 114.97027027027028)   \n",
       "5  (135.9764705882353, 124.00941176470589, 115.52...   \n",
       "6  (134.51881188118813, 122.74257425742574, 114.1...   \n",
       "7  (136.30622837370242, 123.13148788927336, 113.7...   \n",
       "8                      (134.952, 122.5168, 113.5568)   \n",
       "9  (134.20497803806734, 122.2723279648609, 113.88...   \n",
       "\n",
       "                                              Color8  \\\n",
       "0  (140.58620689655172, 112.10344827586206, 97.56...   \n",
       "1               (141.14666666666668, 121.26, 115.28)   \n",
       "2  (136.41935483870967, 120.50691244239631, 115.4...   \n",
       "3  (137.14625850340136, 122.85034013605443, 116.9...   \n",
       "4  (137.47027027027028, 124.49459459459459, 119.5...   \n",
       "5  (135.04235294117646, 124.6470588235294, 119.59...   \n",
       "6  (135.67524752475248, 124.51881188118811, 119.3...   \n",
       "7  (137.36332179930795, 125.17474048442907, 119.1...   \n",
       "8                      (136.3296, 124.744, 119.0896)   \n",
       "9  (135.53001464128843, 124.55051244509517, 119.5...   \n",
       "\n",
       "                                              Color9  \n",
       "0  (121.96551724137932, 118.72413793103448, 125.2...  \n",
       "1                            (122.5, 110.36, 110.82)  \n",
       "2  (124.8110599078341, 112.58064516129032, 108.54...  \n",
       "3  (123.12925170068027, 117.19047619047619, 113.5...  \n",
       "4  (124.31351351351351, 118.08648648648649, 113.4...  \n",
       "5  (124.66588235294118, 118.38823529411765, 112.3...  \n",
       "6  (126.46930693069307, 118.02376237623763, 110.3...  \n",
       "7  (124.63148788927336, 118.56920415224913, 110.4...  \n",
       "8                      (124.936, 118.4464, 110.9904)  \n",
       "9  (125.51390922401171, 118.61639824304538, 111.4...  "
      ]
     },
     "execution_count": 115,
     "metadata": {},
     "output_type": "execute_result"
    }
   ],
   "source": [
    "color_Average = pd.read_csv(\"./Instagram/color_Average.csv\", index_col = 0, converters={\"Color1\": ast.literal_eval,\n",
    "                                                                                        \"Color2\": ast.literal_eval,\n",
    "                                                                                        \"Color3\": ast.literal_eval,\n",
    "                                                                                        \"Color4\": ast.literal_eval,\n",
    "                                                                                        \"Color5\": ast.literal_eval,\n",
    "                                                                                        \"Color6\": ast.literal_eval,\n",
    "                                                                                        \"Color7\": ast.literal_eval,\n",
    "                                                                                        \"Color8\": ast.literal_eval,\n",
    "                                                                                        \"Color9\": ast.literal_eval})\n",
    "color_Average_plt = color_Average.loc[:, \"Color1\":]\n",
    "color_Average_plt"
   ]
  },
  {
   "cell_type": "code",
   "execution_count": 122,
   "metadata": {},
   "outputs": [
    {
     "data": {
      "image/png": "[encoded data removed]",
      "text/plain": [
       "<Figure size 432x288 with 1 Axes>"
      ]
     },
     "metadata": {
      "needs_background": "light"
     },
     "output_type": "display_data"
    }
   ],
   "source": [
    "palette = list(color_Average_plt.loc[0, \"Color1\":])\n",
    "palette = np.array(palette)[np.newaxis, :, :]\n",
    "plt.imshow(palette.astype(np.uint8));\n",
    "plt.axis('off');\n",
    "plt.show();"
   ]
  },
  {
   "cell_type": "code",
   "execution_count": 132,
   "metadata": {},
   "outputs": [
    {
     "data": {
      "image/png": "[encoded data removed]",
      "text/plain": [
       "<Figure size 432x288 with 1 Axes>"
      ]
     },
     "metadata": {
      "needs_background": "light"
     },
     "output_type": "display_data"
    }
   ],
   "source": [
    "palette = list(color_Average_plt.loc[5, \"Color1\":])\n",
    "palette = np.array(palette)[np.newaxis, :, :]\n",
    "plt.imshow(palette.astype(np.uint8));\n",
    "plt.axis('off');\n",
    "plt.show();"
   ]
  },
  {
   "cell_type": "code",
   "execution_count": 29,
   "metadata": {},
   "outputs": [
    {
     "data": {
      "text/plain": [
       "Rgb(r=204, g=148, b=121)"
      ]
     },
     "execution_count": 29,
     "metadata": {},
     "output_type": "execute_result"
    }
   ],
   "source": [
    "colors = colorgram.extract('./Instagram/utknoxville/67121638_205915543730104_2489821481561388853_n.jpg', 10)\n",
    "colors[0].rgb"
   ]
  },
  {
   "cell_type": "code",
   "execution_count": 34,
   "metadata": {},
   "outputs": [
    {
     "name": "stdout",
     "output_type": "stream",
     "text": [
      "            Color1        Color2         Color3         Color4  \\\n",
      "0  (204, 148, 121)  (39, 36, 31)  (132, 91, 75)  (61, 82, 108)   \n",
      "\n",
      "            Color5        Color6            HSL1          HSL2           HSL3  \\\n",
      "0  (242, 213, 182)  (31, 37, 46)  (13, 114, 162)  (26, 29, 35)  (11, 70, 103)   \n",
      "\n",
      "            HSL4            HSL5           HSL6  Proportion1  Proportion2  \\\n",
      "0  (151, 70, 84)  (21, 177, 212)  (153, 49, 38)     0.312477     0.171797   \n",
      "\n",
      "   Proportion3  Proportion4  Proportion5  Proportion6  \n",
      "0     0.156483     0.109238     0.078407     0.065242  \n"
     ]
    }
   ],
   "source": [
    "color_HolderUTK = pd.DataFrame(columns = [\"Color1\", \"Color2\", \"Color3\", \"Color4\", \"Color5\", \"Color6\", \"HSL1\", \"HSL2\", \"HSL3\", \"HSL4\", \"HSL5\", \"HSL6\", \"Proportion1\", \"Proportion2\", \"Proportion3\", \"Proportion4\", \"Proportion5\", \"Proportion6\"])\n",
    "\n",
    "color_HolderUTK = color_HolderUTK.append(pd.Series([colors[0].rgb, colors[1].rgb, colors[2].rgb, colors[3].rgb, colors[4].rgb, colors[5].rgb, \n",
    "                                              colors[0].hsl, colors[1].hsl, colors[2].hsl, colors[3].hsl, colors[4].hsl, colors[5].hsl,\n",
    "                                              colors[0].proportion, colors[1].proportion, colors[2].proportion, colors[3].proportion, colors[4].proportion, colors[5].proportion],\n",
    "                                             index=color_HolderUTK.columns), ignore_index = True) \n",
    "print(color_HolderUTK)\n"
   ]
  },
  {
   "cell_type": "code",
   "execution_count": 39,
   "metadata": {},
   "outputs": [],
   "source": [
    "### UNIVERSITY OF TENNESSEE, KNOXVILLE\n",
    "color_utk = pd.DataFrame(columns = [\"Color1\", \"Color2\", \"Color3\", \"Color4\", \"Color5\", \"Color6\", \"HSL1\", \"HSL2\", \"HSL3\", \"HSL4\", \"HSL5\", \"HSL6\", \"Proportion1\", \"Proportion2\", \"Proportion3\", \"Proportion4\", \"Proportion5\", \"Proportion6\"])\n",
    "pathlist = Path(\"./Instagram/{}\".format(filenames[0])).glob('**/*.jpg')\n",
    "    \n",
    "# Extract a color palette for each image\n",
    "for path in pathlist:\n",
    "    colors = colorgram.extract(path, 6)\n",
    "    color_utk = color_utk.append(pd.Series([colors[0].rgb, colors[1].rgb, colors[2].rgb, colors[3].rgb, colors[4].rgb, colors[5].rgb, \n",
    "                                              colors[0].hsl, colors[1].hsl, colors[2].hsl, colors[3].hsl, colors[4].hsl, colors[5].hsl,\n",
    "                                              colors[0].proportion, colors[1].proportion, colors[2].proportion, colors[3].proportion, colors[4].proportion, colors[5].proportion],\n",
    "                                              index=color_utk.columns), ignore_index = True)\n",
    "\n",
    "color_utk.to_csv(\"./Instagram/color_Median_UTK.csv\")\n",
    "    \n",
    "color_Average = color_Average.append(pd.Series([\n",
    "                                                    tuple(map(np.median, zip(*color_utk[\"Color1\"]))),\n",
    "                                                    tuple(map(np.median, zip(*color_utk[\"Color2\"]))),\n",
    "                                                    tuple(map(np.median, zip(*color_utk[\"Color3\"]))),\n",
    "                                                    tuple(map(np.median, zip(*color_utk[\"Color4\"]))),\n",
    "                                                    tuple(map(np.median, zip(*color_utk[\"Color5\"]))),\n",
    "                                                    tuple(map(np.median, zip(*color_utk[\"Color6\"]))),\n",
    "                                                    tuple(map(np.median, zip(*color_utk[\"HSL1\"]))),\n",
    "                                                    tuple(map(np.median, zip(*color_utk[\"HSL2\"]))),\n",
    "                                                    tuple(map(np.median, zip(*color_utk[\"HSL3\"]))),\n",
    "                                                    tuple(map(np.median, zip(*color_utk[\"HSL4\"]))),\n",
    "                                                    tuple(map(np.median, zip(*color_utk[\"HSL5\"]))),\n",
    "                                                    tuple(map(np.median, zip(*color_utk[\"HSL6\"])))],\n",
    "                                                    index = color_Average.columns),\n",
    "                                                    ignore_index = True)\n",
    "    \n",
    "color_Average.to_csv(\"./Instagram/color_Median.csv\")"
   ]
  },
  {
   "cell_type": "code",
   "execution_count": 54,
   "metadata": {},
   "outputs": [
    {
     "name": "stdout",
     "output_type": "stream",
     "text": [
      "[<colorgram.py Color: Rgb(r=240, g=129, b=50), 76.66057698883341%>, <colorgram.py Color: Rgb(r=253, g=249, b=242), 16.823142078371223%>, <colorgram.py Color: Rgb(r=248, g=254, b=253), 3.5824890825428146%>, <colorgram.py Color: Rgb(r=254, g=252, b=254), 1.809318184038531%>, <colorgram.py Color: Rgb(r=249, g=252, b=254), 1.0248243925790599%>, <colorgram.py Color: Rgb(r=233, g=190, b=145), 0.09964927363495149%>]\n",
      "[<colorgram.py Color: Rgb(r=247, g=246, b=240), 65.950403475805%>, <colorgram.py Color: Rgb(r=88, g=88, b=91), 12.929714084437451%>, <colorgram.py Color: Rgb(r=174, g=188, b=104), 10.229462420089796%>, <colorgram.py Color: Rgb(r=89, g=89, b=84), 5.66938094395647%>, <colorgram.py Color: Rgb(r=197, g=210, b=128), 2.6451054551713917%>, <colorgram.py Color: Rgb(r=245, g=244, b=248), 2.575933620539891%>]\n",
      "[<colorgram.py Color: Rgb(r=191, g=163, b=113), 31.36381636609668%>, <colorgram.py Color: Rgb(r=112, g=102, b=71), 31.27870335440983%>, <colorgram.py Color: Rgb(r=237, g=228, b=204), 17.52173806963314%>, <colorgram.py Color: Rgb(r=150, g=146, b=73), 11.485846090901072%>, <colorgram.py Color: Rgb(r=223, g=212, b=123), 5.937735186863881%>, <colorgram.py Color: Rgb(r=62, g=53, b=34), 2.4121609320953943%>]\n",
      "[<colorgram.py Color: Rgb(r=253, g=252, b=251), 52.836412766928106%>, <colorgram.py Color: Rgb(r=176, g=160, b=138), 15.723535295046586%>, <colorgram.py Color: Rgb(r=65, g=124, b=56), 10.898796886058031%>, <colorgram.py Color: Rgb(r=127, g=99, b=69), 7.305831914980727%>, <colorgram.py Color: Rgb(r=91, g=162, b=69), 7.234475618957379%>, <colorgram.py Color: Rgb(r=83, g=86, b=95), 6.000947518029162%>]\n",
      "[<colorgram.py Color: Rgb(r=153, g=96, b=24), 39.64378904087926%>, <colorgram.py Color: Rgb(r=220, g=202, b=150), 32.455325373606385%>, <colorgram.py Color: Rgb(r=197, g=177, b=125), 12.080928283387363%>, <colorgram.py Color: Rgb(r=229, g=210, b=158), 10.214873092432988%>, <colorgram.py Color: Rgb(r=81, g=47, b=19), 2.848501620937772%>, <colorgram.py Color: Rgb(r=167, g=130, b=62), 2.7565825887562267%>]\n",
      "[<colorgram.py Color: Rgb(r=182, g=164, b=140), 33.12486707110809%>, <colorgram.py Color: Rgb(r=30, g=26, b=22), 30.855707586821556%>, <colorgram.py Color: Rgb(r=232, g=220, b=206), 14.119833497067969%>, <colorgram.py Color: Rgb(r=127, g=96, b=75), 12.512533295522449%>, <colorgram.py Color: Rgb(r=114, g=101, b=108), 5.727336256924962%>, <colorgram.py Color: Rgb(r=24, g=25, b=28), 3.659722292554969%>]\n",
      "[<colorgram.py Color: Rgb(r=38, g=29, b=25), 25.45850009603455%>, <colorgram.py Color: Rgb(r=178, g=158, b=137), 23.43554524265595%>, <colorgram.py Color: Rgb(r=241, g=233, b=222), 21.8330659939057%>, <colorgram.py Color: Rgb(r=117, g=90, b=74), 17.24520995229419%>, <colorgram.py Color: Rgb(r=32, g=28, b=30), 7.629815354107943%>, <colorgram.py Color: Rgb(r=100, g=90, b=96), 4.397863361001667%>]\n",
      "[<colorgram.py Color: Rgb(r=231, g=215, b=195), 34.758626977253044%>, <colorgram.py Color: Rgb(r=190, g=166, b=143), 22.16634195552085%>, <colorgram.py Color: Rgb(r=20, g=12, b=8), 19.908591995655545%>, <colorgram.py Color: Rgb(r=134, g=90, b=59), 15.053384097940544%>, <colorgram.py Color: Rgb(r=87, g=84, b=103), 4.36962764913755%>, <colorgram.py Color: Rgb(r=92, g=81, b=88), 3.7434273244924694%>]\n",
      "[<colorgram.py Color: Rgb(r=35, g=27, b=18), 29.235966461190355%>, <colorgram.py Color: Rgb(r=181, g=160, b=138), 26.58627361832158%>, <colorgram.py Color: Rgb(r=127, g=97, b=74), 17.502141112532644%>, <colorgram.py Color: Rgb(r=242, g=235, b=224), 17.198684669634265%>, <colorgram.py Color: Rgb(r=94, g=82, b=87), 5.111707920530362%>, <colorgram.py Color: Rgb(r=50, g=84, b=163), 4.365226217790795%>]\n",
      "[<colorgram.py Color: Rgb(r=252, g=252, b=252), 90.8198951163553%>, <colorgram.py Color: Rgb(r=159, g=159, b=159), 4.648312028843002%>, <colorgram.py Color: Rgb(r=102, g=102, b=102), 3.6987872828580795%>, <colorgram.py Color: Rgb(r=37, g=37, b=37), 0.8330055719436249%>]\n"
     ]
    },
    {
     "ename": "IndexError",
     "evalue": "list index out of range",
     "output_type": "error",
     "traceback": [
      "\u001b[1;31m---------------------------------------------------------------------------\u001b[0m",
      "\u001b[1;31mIndexError\u001b[0m                                Traceback (most recent call last)",
      "\u001b[1;32m<ipython-input-54-0869059a00a5>\u001b[0m in \u001b[0;36m<module>\u001b[1;34m\u001b[0m\n\u001b[0;32m      7\u001b[0m     \u001b[0mcolors\u001b[0m \u001b[1;33m=\u001b[0m \u001b[0mcolorgram\u001b[0m\u001b[1;33m.\u001b[0m\u001b[0mextract\u001b[0m\u001b[1;33m(\u001b[0m\u001b[0mpath\u001b[0m\u001b[1;33m,\u001b[0m \u001b[1;36m6\u001b[0m\u001b[1;33m)\u001b[0m\u001b[1;33m\u001b[0m\u001b[1;33m\u001b[0m\u001b[0m\n\u001b[0;32m      8\u001b[0m     \u001b[0mprint\u001b[0m\u001b[1;33m(\u001b[0m\u001b[0mcolors\u001b[0m\u001b[1;33m)\u001b[0m\u001b[1;33m\u001b[0m\u001b[1;33m\u001b[0m\u001b[0m\n\u001b[1;32m----> 9\u001b[1;33m     color_utkgeography = color_utkgeography.append(pd.Series([colors[0].rgb, colors[1].rgb, colors[2].rgb, colors[3].rgb, colors[4].rgb, colors[5].rgb, \n\u001b[0m\u001b[0;32m     10\u001b[0m                                               \u001b[0mcolors\u001b[0m\u001b[1;33m[\u001b[0m\u001b[1;36m0\u001b[0m\u001b[1;33m]\u001b[0m\u001b[1;33m.\u001b[0m\u001b[0mhsl\u001b[0m\u001b[1;33m,\u001b[0m \u001b[0mcolors\u001b[0m\u001b[1;33m[\u001b[0m\u001b[1;36m1\u001b[0m\u001b[1;33m]\u001b[0m\u001b[1;33m.\u001b[0m\u001b[0mhsl\u001b[0m\u001b[1;33m,\u001b[0m \u001b[0mcolors\u001b[0m\u001b[1;33m[\u001b[0m\u001b[1;36m2\u001b[0m\u001b[1;33m]\u001b[0m\u001b[1;33m.\u001b[0m\u001b[0mhsl\u001b[0m\u001b[1;33m,\u001b[0m \u001b[0mcolors\u001b[0m\u001b[1;33m[\u001b[0m\u001b[1;36m3\u001b[0m\u001b[1;33m]\u001b[0m\u001b[1;33m.\u001b[0m\u001b[0mhsl\u001b[0m\u001b[1;33m,\u001b[0m \u001b[0mcolors\u001b[0m\u001b[1;33m[\u001b[0m\u001b[1;36m4\u001b[0m\u001b[1;33m]\u001b[0m\u001b[1;33m.\u001b[0m\u001b[0mhsl\u001b[0m\u001b[1;33m,\u001b[0m \u001b[0mcolors\u001b[0m\u001b[1;33m[\u001b[0m\u001b[1;36m5\u001b[0m\u001b[1;33m]\u001b[0m\u001b[1;33m.\u001b[0m\u001b[0mhsl\u001b[0m\u001b[1;33m,\u001b[0m\u001b[1;33m\u001b[0m\u001b[1;33m\u001b[0m\u001b[0m\n\u001b[0;32m     11\u001b[0m                                               colors[0].proportion, colors[1].proportion, colors[2].proportion, colors[3].proportion, colors[4].proportion, colors[5].proportion],\n",
      "\u001b[1;31mIndexError\u001b[0m: list index out of range"
     ]
    }
   ],
   "source": [
    "### UNIVERSITY OF TENNESSEE, KNOXVILLE GEOGRAPHY\n",
    "color_utkgeography = pd.DataFrame(columns = [\"Color1\", \"Color2\", \"Color3\", \"Color4\", \"Color5\", \"Color6\", \"HSL1\", \"HSL2\", \"HSL3\", \"HSL4\", \"HSL5\", \"HSL6\", \"Proportion1\", \"Proportion2\", \"Proportion3\", \"Proportion4\", \"Proportion5\", \"Proportion6\"])\n",
    "pathlist = Path(\"./Instagram/{}\".format(filenames[1])).glob('**/*.jpg')\n",
    "    \n",
    "# Extract a color palette for each image\n",
    "for path in pathlist:\n",
    "    colors = colorgram.extract(path, 6)\n",
    "    color_utkgeography = color_utkgeography.append(pd.Series([colors[0].rgb, colors[1].rgb, colors[2].rgb, colors[3].rgb, colors[4].rgb, colors[5].rgb, \n",
    "                                                              colors[0].hsl, colors[1].hsl, colors[2].hsl, colors[3].hsl, colors[4].hsl, colors[5].hsl,\n",
    "                                                              colors[0].proportion, colors[1].proportion, colors[2].proportion, colors[3].proportion, colors[4].proportion, colors[5].proportion],\n",
    "                                                              index=color_utkgeography.columns), ignore_index = True)\n",
    "\n",
    "color_utkgeography.to_csv(\"./Instagram/color_Median_{}.csv\".format(communities[1]))\n",
    "    \n",
    "color_Average = color_Average.append(pd.Series([\n",
    "                                                    tuple(map(np.median, zip(*color_utkgeography[\"Color1\"]))),\n",
    "                                                    tuple(map(np.median, zip(*color_utkgeography[\"Color2\"]))),\n",
    "                                                    tuple(map(np.median, zip(*color_utkgeography[\"Color3\"]))),\n",
    "                                                    tuple(map(np.median, zip(*color_utkgeography[\"Color4\"]))),\n",
    "                                                    tuple(map(np.median, zip(*color_utkgeography[\"Color5\"]))),\n",
    "                                                    tuple(map(np.median, zip(*color_utkgeography[\"Color6\"]))),\n",
    "                                                    tuple(map(np.median, zip(*color_utkgeography[\"HSL1\"]))),\n",
    "                                                    tuple(map(np.median, zip(*color_utkgeography[\"HSL2\"]))),\n",
    "                                                    tuple(map(np.median, zip(*color_utkgeography[\"HSL3\"]))),\n",
    "                                                    tuple(map(np.median, zip(*color_utkgeography[\"HSL4\"]))),\n",
    "                                                    tuple(map(np.median, zip(*color_utkgeography[\"HSL5\"]))),\n",
    "                                                    tuple(map(np.median, zip(*color_utkgeography[\"HSL6\"])))],\n",
    "                                                    index = color_Average.columns),\n",
    "                                                    ignore_index = True)\n",
    "    \n",
    "color_Average.to_csv(\"./Instagram/color_Median.csv\")"
   ]
  }
 ],
 "metadata": {
  "kernelspec": {
   "display_name": "Python 3",
   "language": "python",
   "name": "python3"
  },
  "language_info": {
   "codemirror_mode": {
    "name": "ipython",
    "version": 3
   },
   "file_extension": ".py",
   "mimetype": "text/x-python",
   "name": "python",
   "nbconvert_exporter": "python",
   "pygments_lexer": "ipython3",
   "version": "3.5.6"
  }
 },
 "nbformat": 4,
 "nbformat_minor": 4
}
